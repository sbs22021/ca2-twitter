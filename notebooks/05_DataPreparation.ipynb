{
 "cells": [
  {
   "cell_type": "code",
   "execution_count": 2,
   "id": "4e700b1e-71d3-46e2-b762-a5de5d06dc3e",
   "metadata": {},
   "outputs": [
    {
     "name": "stdout",
     "output_type": "stream",
     "text": [
      "root\n",
      " |-- _id: long (nullable = true)\n",
      " |-- coordinates: void (nullable = true)\n",
      " |-- text: string (nullable = true)\n",
      " |-- timestamp: timestamp (nullable = true)\n",
      " |-- timestamp_ms: long (nullable = true)\n",
      "\n"
     ]
    }
   ],
   "source": [
    "import pyspark\n",
    "from pyspark import SparkContext, SparkConf\n",
    "from pyspark.sql import SparkSession, SQLContext, functions as F\n",
    "from pyspark.sql.functions import *\n",
    "\n",
    "mongo_uri = \"mongodb://hadoop-vm.internal.cloudapp.net:27017/ca2\"\n",
    "\n",
    "# Spark version 3.2.3\n",
    "# MongoDB version 6.0.5\n",
    "# Java Version 11\n",
    "\n",
    "# create a spark session\n",
    "# Jars dependencies available in maven repository\n",
    "# https://mvnrepository.com/search?q=mongodb-driver-sync\n",
    "spark = SparkSession.builder \\\n",
    "    .appName('Tweets') \\\n",
    "    .config(\"spark.mongodb.read.connection.uri\", mongo_uri) \\\n",
    "    .config(\"spark.mongodb.write.connection.uri\", mongo_uri) \\\n",
    "    .config(\"spark.jars.packages\", \"org.mongodb.spark:mongo-spark-connector_2.12:10.1.1\") \\\n",
    "    .config(\"spark.jars.packages\", \"org.mongodb:mongodb-driver-core:4.9.1\") \\\n",
    "    .config(\"spark.jars.packages\", \"org.mongodb:mongodb-driver-sync:4.9.1\") \\\n",
    "    .config(\"spark.jars.packages\", \"org.mongodb:bson:4.9.1\") \\\n",
    "    .getOrCreate()\n",
    "\n",
    "# read data from mongodb collection \"tweets\" into a dataframe \"df\"\n",
    "df = spark.read \\\n",
    "    .format(\"mongodb\") \\\n",
    "    .option(\"connection.uri\", mongo_uri) \\\n",
    "    .option(\"database\", \"ca2\") \\\n",
    "    .option(\"collection\", \"tweets\") \\\n",
    "    .load()\n",
    "\n",
    "df.printSchema()"
   ]
  },
  {
   "cell_type": "markdown",
   "id": "d43742a7",
   "metadata": {},
   "source": [
    "## Tweets Statistics"
   ]
  },
  {
   "cell_type": "markdown",
   "id": "9ef63fd4",
   "metadata": {},
   "source": [
    "### Total count tweets by laboratory"
   ]
  },
  {
   "cell_type": "code",
   "execution_count": 3,
   "id": "d37b5590-9eec-4067-9768-3bed3ef930b3",
   "metadata": {},
   "outputs": [],
   "source": [
    "# No need to compare with lower case as we are looking for exact match on hastags\n",
    "def contains_hashtags(column, hashtags):\n",
    "    condition = None\n",
    "    for hashtag in hashtags:\n",
    "        if condition is None:\n",
    "            condition = column.contains(hashtag)\n",
    "        else:\n",
    "            condition = condition | column.contains(hashtag)\n",
    "    return condition\n"
   ]
  },
  {
   "cell_type": "code",
   "execution_count": 4,
   "id": "e580a75b-1554-42a3-b1c6-9a3b5398b7de",
   "metadata": {},
   "outputs": [],
   "source": [
    "laboratories = ['#Moderna', '#Pfizer', '#BioNTech', '#AstraZeneca', '#JohnsonAndJohnson', '#Janssen', '#Novavax', '#Sinovac', '#Sinopharm', '#Sanofi', '#GSK']"
   ]
  },
  {
   "cell_type": "code",
   "execution_count": 10,
   "id": "573b38ad",
   "metadata": {},
   "outputs": [],
   "source": [
    "# Filtering tweets containing laboratories\n",
    "df_lab = df.filter(contains_hashtags(col(\"text\"), laboratories))"
   ]
  },
  {
   "cell_type": "code",
   "execution_count": 13,
   "id": "f6384829",
   "metadata": {},
   "outputs": [],
   "source": [
    "df_lab_monthly = df_lab.groupBy(   \n",
    "    when(col(\"text\").contains('#AstraZeneca'), \"AstraZeneca\").alias(\"laboratory\"),\n",
    "    date_trunc(\"month\", \"timestamp\").alias(\"month\")\n",
    ").count() \\\n",
    ".groupBy(\"laboratory\").agg(avg(\"count\").alias(\"avg_tweets_per_month\"))"
   ]
  },
  {
   "cell_type": "code",
   "execution_count": 14,
   "id": "4adf071f",
   "metadata": {},
   "outputs": [
    {
     "name": "stdout",
     "output_type": "stream",
     "text": [
      "+-----------+--------------------+\n",
      "| laboratory|avg_tweets_per_month|\n",
      "+-----------+--------------------+\n",
      "|AstraZeneca|   636.9166666666666|\n",
      "|       null|   778.5833333333334|\n",
      "+-----------+--------------------+\n",
      "\n"
     ]
    }
   ],
   "source": [
    "df_lab_monthly.show()"
   ]
  },
  {
   "cell_type": "markdown",
   "id": "849fec53",
   "metadata": {},
   "source": [
    "# Create AstraZeneca collection"
   ]
  },
  {
   "cell_type": "code",
   "execution_count": 11,
   "id": "91c25ee3",
   "metadata": {},
   "outputs": [
    {
     "data": {
      "text/plain": [
       "3708"
      ]
     },
     "execution_count": 11,
     "metadata": {},
     "output_type": "execute_result"
    }
   ],
   "source": [
    "laboratory = \"AstraZeneca\"\n",
    "df_lab = df.filter(lower(col(\"text\")).contains(laboratory.lower()))\n",
    "print(f\"Total tweets for {laboratory} {df_lab.count()}\")"
   ]
  },
  {
   "cell_type": "code",
   "execution_count": 12,
   "id": "84584e8d",
   "metadata": {},
   "outputs": [],
   "source": [
    "df_lab.write \\\n",
    "    .format(\"mongodb\") \\\n",
    "    .mode(\"overwrite\") \\\n",
    "    .option(\"connection.uri\", mongo_uri) \\\n",
    "    .option(\"database\", \"ca2\") \\\n",
    "    .option(\"collection\", f\"{laboratory.lower()}_tweets\") \\\n",
    "    .save()"
   ]
  },
  {
   "cell_type": "markdown",
   "id": "37a59e7c",
   "metadata": {},
   "source": [
    "# Create Moderna collection"
   ]
  },
  {
   "cell_type": "code",
   "execution_count": 13,
   "id": "5060f3f7",
   "metadata": {},
   "outputs": [
    {
     "name": "stdout",
     "output_type": "stream",
     "text": [
      "Total tweets for Moderna 8246\n"
     ]
    }
   ],
   "source": [
    "laboratory = \"Moderna\"\n",
    "df_lab = df.filter(lower(col(\"text\")).contains(laboratory.lower()))\n",
    "print(f\"Total tweets for {laboratory} {df_lab.count()}\")"
   ]
  },
  {
   "cell_type": "code",
   "execution_count": 14,
   "id": "4e561a98",
   "metadata": {},
   "outputs": [],
   "source": [
    "df_lab.write \\\n",
    "    .format(\"mongodb\") \\\n",
    "    .mode(\"overwrite\") \\\n",
    "    .option(\"connection.uri\", mongo_uri) \\\n",
    "    .option(\"database\", \"ca2\") \\\n",
    "    .option(\"collection\", f\"{laboratory.lower()}_tweets\") \\\n",
    "    .save()"
   ]
  },
  {
   "cell_type": "markdown",
   "id": "7694a897",
   "metadata": {},
   "source": [
    "# Create topic tweet \"Vaccin [ne, nation,]\""
   ]
  },
  {
   "cell_type": "code",
   "execution_count": 15,
   "id": "d3e8add6",
   "metadata": {},
   "outputs": [
    {
     "name": "stdout",
     "output_type": "stream",
     "text": [
      "Total tweets for Vaccin 96869\n"
     ]
    }
   ],
   "source": [
    "topic = \"Vaccin\"\n",
    "df_vaccine = df.filter(lower(col(\"text\")).contains(topic.lower()))\n",
    "print(f\"Total tweets for {topic} {df_vaccine.count()}\")"
   ]
  },
  {
   "cell_type": "code",
   "execution_count": 16,
   "id": "0bef1b4c",
   "metadata": {},
   "outputs": [],
   "source": [
    "df_vaccine.write \\\n",
    "    .format(\"mongodb\") \\\n",
    "    .mode(\"overwrite\") \\\n",
    "    .option(\"connection.uri\", mongo_uri) \\\n",
    "    .option(\"database\", \"ca2\") \\\n",
    "    .option(\"collection\", f\"{topic.lower()}_tweets\") \\\n",
    "    .save()"
   ]
  },
  {
   "cell_type": "code",
   "execution_count": null,
   "id": "6a9a514c",
   "metadata": {},
   "outputs": [],
   "source": []
  }
 ],
 "metadata": {
  "kernelspec": {
   "display_name": "Python 3 (ipykernel)",
   "language": "python",
   "name": "python3"
  },
  "language_info": {
   "codemirror_mode": {
    "name": "ipython",
    "version": 3
   },
   "file_extension": ".py",
   "mimetype": "text/x-python",
   "name": "python",
   "nbconvert_exporter": "python",
   "pygments_lexer": "ipython3",
   "version": "3.9.13"
  }
 },
 "nbformat": 4,
 "nbformat_minor": 5
}
