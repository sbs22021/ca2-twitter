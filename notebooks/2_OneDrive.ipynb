{
 "cells": [
  {
   "cell_type": "code",
   "execution_count": 1,
   "id": "3e1a2629-8125-4ff7-b5e7-e5566bcb6b1a",
   "metadata": {},
   "outputs": [],
   "source": [
    "#pip install requests msal"
   ]
  },
  {
   "cell_type": "code",
   "execution_count": 2,
   "id": "8e19733c-7e71-4291-96c9-46ae72bd9800",
   "metadata": {},
   "outputs": [],
   "source": [
    "import json\n",
    "import msal\n",
    "import os\n",
    "import requests\n",
    "import secrets\n",
    "import uuid\n",
    "import webbrowser\n",
    "from http.server import BaseHTTPRequestHandler, HTTPServer\n",
    "import base64\n",
    "import hashlib"
   ]
  },
  {
   "cell_type": "code",
   "execution_count": 87,
   "id": "65628bfb-9039-478f-b37e-4aa338247bed",
   "metadata": {},
   "outputs": [
    {
     "name": "stdout",
     "output_type": "stream",
     "text": [
      "Open this link and accept consent: https://login.microsoftonline.com/52a239cb-7253-407a-8d71-74c8efe4d804/oauth2/v2.0/authorize?client_id=b7b2854f-7be5-46e3-8629-6f1cee4ec9fc&response_type=code&redirect_uri=http%3A%2F%2Flocalhost%3A8080&scope=https%3A%2F%2Fgraph.microsoft.com%2FFiles.ReadWrite+offline_access+openid+profile&state=9101fb58-7e89-4734-9abe-5d5c3f9cebcc&prompt=select_account\n"
     ]
    }
   ],
   "source": [
    "# Replace the following placeholders with your actual values\n",
    "CLIENT_ID = 'xxxxxxxxxxxxxx'\n",
    "CLIENT_SECRET = 'xxxxxxxxxxxxxxxxxxx'\n",
    "TENANT_ID = 'xxxxxxxxxxxxxxxxxxx'\n",
    "USER_ID = 'xxxxxxxxxxxxxxxxxxx'\n",
    "FILE_DIR = '/home/rmsryu/notebooks/CA2/ca2-twitter/notebooks/data'\n",
    "FILE_PATH = f'{FILE_DIR}/README.txt'\n",
    "REDIRECT_PORT = 8080  # Choose a port for the local server\n",
    "\n",
    "# Create the MSAL app\n",
    "app = msal.PublicClientApplication(\n",
    "    CLIENT_ID,\n",
    "    authority=f'https://login.microsoftonline.com/{TENANT_ID}',\n",
    ")\n",
    "\n",
    "def urlsafe_b64encode_no_padding(data):\n",
    "    return base64.urlsafe_b64encode(data).rstrip(b'=').decode('utf-8')\n",
    "\n",
    "# Define the PKCE parameters\n",
    "code_verifier = secrets.token_urlsafe(128)[:128]\n",
    "\n",
    "# Compute the SHA-256 hash\n",
    "hash_object = hashlib.sha256(code_verifier.encode('utf-8'))\n",
    "code_challenge = urlsafe_b64encode_no_padding(hash_object.digest())\n",
    "\n",
    "# Generate the authorization request URL\n",
    "auth_request_url = app.get_authorization_request_url(\n",
    "    [\"https://graph.microsoft.com/Files.ReadWrite\"],\n",
    "    redirect_uri=f\"http://localhost:{REDIRECT_PORT}\",\n",
    "    state=str(uuid.uuid4()),\n",
    "    prompt=\"select_account\",\n",
    "    code_challenge=code_challenge,\n",
    "    code_challenge_method=\"S256\",\n",
    ")\n",
    "\n",
    "# Open the authorization request URL in the user's default browser\n",
    "print(f\"Open this link and accept consent: {auth_request_url}\")\n"
   ]
  },
  {
   "cell_type": "code",
   "execution_count": 64,
   "id": "54198c84-dae2-4a3e-b937-d5f0038bf82d",
   "metadata": {},
   "outputs": [],
   "source": [
    "# Copy the auth_code - remove &state=007415da-b1d4-4ed5-a68b-e9d3305e15a1 &session_state=8ca68bd3-8cf7-42ac-9ac3-b2e5ff8ec9e3#\n",
    "auth_code=\"0.ASEAyzmiUlNyekCNcXTI7-TYBE-Fsrfle-NGhilvHO5OyfyGACw.AgABAAIAAAD--DLA3VO7QrddgJg7WevrAgDs_wUA9P-KC4SLiXeb8VD4LcYO6jqnLLJ2OYFMR60GQIeftK90LRJQyYHJ1z6IgfWFyFvv0lFJOA66RlIKFm_fkFthsBGnBqoR40reuYeuFTpeUv2n9dCkrg7d5G134jAVZVfqpDHn18mrxvxFqemrER8BLJIF-C5S6mIu8wcZDtJld_Hwt3L68p1tryMDpdJB0_Qz5j8fxthn_rb7943OcgifTP1heCs5nUCl4hXJmzR7IhWi7Hgef2LaAxrwoGBeeMQDTXEX31F5P23JytN0dGE0bmOUc0QHsu0tDyUnjyBO65OCixkS6OPMSqPaF8xX3xW_2J3mi6S48qmOQ9y0ESWysAlMuGJQVT8rAXfUo3AlxaYyCMK7jFfxYDp_FbVGDaA6Jht4Q1sD_LIHeU31roudipllcvDVC6FYjuJrkBhaYFqFq_-iXG2mG-BFHhRP7JNEN6nVTa_Y29AhRR3DPuvh7RHWgFZL1fEQqlO7p8xeQ9oDotpRcLOliVVRvJjiG4FVPprF3n6VN3E_nIifWGR-n98usoo9tyVqRYd_bTdKYJyncW1qyfaOpm-g5LjRJWKPmJZX-sm85iqosoSgYPqtz1SNCAHC1iwrPu3ylfMLrSzRU0vAxXedA-14sb9zoyQTpYRNa9sM04nYgMrgZ169j_9sdWIbjSd4CzJ8HaSPU7O-ksrO-CtaDzYnE-FA9NREZyyvYSnnImrEQkinNFucS7NQNdBSh4ohh10hImNGagrCha0cDQ\""
   ]
  },
  {
   "cell_type": "code",
   "execution_count": 65,
   "id": "cde1e0d7-5587-4aba-8adf-31a8fe5f1d51",
   "metadata": {},
   "outputs": [],
   "source": [
    "#https://learn.microsoft.com/en-us/azure/active-directory/develop/v2-oauth2-auth-code-flow\n",
    "def get_oauth_token():\n",
    "    # Get access token\n",
    "    url = f'https://login.microsoftonline.com/{TENANT_ID}/oauth2/v2.0/token'\n",
    "    token_data = {\n",
    "        'client_id': CLIENT_ID,\n",
    "        'client_secret': CLIENT_SECRET,\n",
    "        'code': auth_code,\n",
    "        'redirect_uri': f\"http://localhost:{REDIRECT_PORT}\",\n",
    "        'grant_type': 'authorization_code'\n",
    "    }\n",
    "    token_response = requests.post(url, data=token_data)\n",
    "    print(token_response)\n",
    "    return token_response.json()['access_token']"
   ]
  },
  {
   "cell_type": "code",
   "execution_count": null,
   "id": "cc6b7096-7765-4f38-aafc-a40a59563193",
   "metadata": {},
   "outputs": [],
   "source": [
    "access_token = get_oauth_token()"
   ]
  },
  {
   "cell_type": "code",
   "execution_count": 68,
   "id": "01e367e4-989b-479a-a043-e582fba35e6f",
   "metadata": {},
   "outputs": [
    {
     "name": "stdout",
     "output_type": "stream",
     "text": [
      "eyJ0eXAiOiJKV1QiLCJub25jZSI6Imx6cTdiOXJPYkJpSUR3RnVyUFdVZWRUaXExVDk5cENVTk84dmVMUU1nVUkiLCJhbGciOiJSUzI1NiIsIng1dCI6Ii1LSTNROW5OUjdiUm9meG1lWm9YcWJIWkdldyIsImtpZCI6Ii1LSTNROW5OUjdiUm9meG1lWm9YcWJIWkdldyJ9.eyJhdWQiOiJodHRwczovL2dyYXBoLm1pY3Jvc29mdC5jb20iLCJpc3MiOiJodHRwczovL3N0cy53aW5kb3dzLm5ldC81MmEyMzljYi03MjUzLTQwN2EtOGQ3MS03NGM4ZWZlNGQ4MDQvIiwiaWF0IjoxNjgyNjM1NDczLCJuYmYiOjE2ODI2MzU0NzMsImV4cCI6MTY4MjY0MDcyMywiYWNjdCI6MCwiYWNyIjoiMSIsImFpbyI6IkFUUUF5LzhUQUFBQThuSnJsWEx2MXdTM1FHcGtCak1xUU9EM1lnSFZ6TmtxRWNia1BPZGt6ZUExci9BeTFxT3h0bVhJcnk2M2JabEUiLCJhbXIiOlsicHdkIl0sImFwcF9kaXNwbGF5bmFtZSI6InNiczIyMDIxLXR3aXR0ZXItZGF0YSIsImFwcGlkIjoiYjdiMjg1NGYtN2JlNS00NmUzLTg2MjktNmYxY2VlNGVjOWZjIiwiYXBwaWRhY3IiOiIxIiwiZmFtaWx5X25hbWUiOiJTYW5jaGV6IiwiZ2l2ZW5fbmFtZSI6IlJhdWwgTWFydGluIiwiaWR0eXAiOiJ1c2VyIiwiaXBhZGRyIjoiODYuNDEuMTc0LjM2IiwibmFtZSI6IlJhdWwgTWFydGluIFNhbmNoZXoiLCJvaWQiOiI1MDg3MmM2My01YTg4LTQ5NzQtODhmMi0wZGRkYTU4ODY1NDQiLCJwbGF0ZiI6IjMiLCJwdWlkIjoiMTAwMzIwMDFEQzI2MzRCRSIsInJoIjoiMC5BU0VBeXptaVVsTnlla0NOY1hUSTctVFlCQU1BQUFBQUFBQUF3QUFBQUFBQUFBQ0dBQ3cuIiwic2NwIjoiRmlsZXMuUmVhZFdyaXRlIG9wZW5pZCBwcm9maWxlIGVtYWlsIiwic2lnbmluX3N0YXRlIjpbImttc2kiXSwic3ViIjoiSHZfV0xoa2Y2cmFoNXpidHpyck8xekRyS3VHYUFBcGVqdmdFLXljQkdiNCIsInRlbmFudF9yZWdpb25fc2NvcGUiOiJFVSIsInRpZCI6IjUyYTIzOWNiLTcyNTMtNDA3YS04ZDcxLTc0YzhlZmU0ZDgwNCIsInVuaXF1ZV9uYW1lIjoic2JzMjIwMjFAc3R1ZGVudC5jY3QuaWUiLCJ1cG4iOiJzYnMyMjAyMUBzdHVkZW50LmNjdC5pZSIsInV0aSI6InJSb0cwMkYyZVVpSGlWWk9EZU13QUEiLCJ2ZXIiOiIxLjAiLCJ3aWRzIjpbImI3OWZiZjRkLTNlZjktNDY4OS04MTQzLTc2YjE5NGU4NTUwOSJdLCJ4bXNfc3QiOnsic3ViIjoiTVVQdTBnLU9GYTQyLURlMEZZNnUyM1F6bWVCXzdSck1wT3ZMQm9vWENxbyJ9LCJ4bXNfdGNkdCI6MTQ3ODExNDI1NiwieG1zX3RkYnIiOiJFVSJ9.iUggkqydMqDRRMyUljvQndwK2ZdeZrkrNdKU8s4FYoWrFGb4WX-f71ECvSK7SyWNM9Nck48gfdt1CmAN7vCMhll9pqArllOCWy_DB9cZA_dACbktF4l-mkj_kl-GEBd_XNwmk4MzBtG9zNs7zpvNnFPHUfFlOIgY9ginRG04aF6z0ulh_wLGGjBaa2p91EmgVmHjTDDgfg9LQZlIbX9Mr0ODSit_ZDkIe8Oi7zwh8oWdBvKaMj6UkVZyrxGopNcAyw8KczgrTO24_kgqveZ866C53d-Nf3Q_rug_VbE5vT_zZZ-9zqzBdrUsXLY5x21lYwPHq6GH-A8A5iuHS2NTQw\n"
     ]
    }
   ],
   "source": [
    "access_token = \"eyJ0eXAiOiJKV1QiLCJub25jZSI6Imx6cTdiOXJPYkJpSUR3RnVyUFdVZWRUaXExVDk5cENVTk84dmVMUU1nVUkiLCJhbGciOiJSUzI1NiIsIng1dCI6Ii1LSTNROW5OUjdiUm9meG1lWm9YcWJIWkdldyIsImtpZCI6Ii1LSTNROW5OUjdiUm9meG1lWm9YcWJIWkdldyJ9.eyJhdWQiOiJodHRwczovL2dyYXBoLm1pY3Jvc29mdC5jb20iLCJpc3MiOiJodHRwczovL3N0cy53aW5kb3dzLm5ldC81MmEyMzljYi03MjUzLTQwN2EtOGQ3MS03NGM4ZWZlNGQ4MDQvIiwiaWF0IjoxNjgyNjM1NDczLCJuYmYiOjE2ODI2MzU0NzMsImV4cCI6MTY4MjY0MDcyMywiYWNjdCI6MCwiYWNyIjoiMSIsImFpbyI6IkFUUUF5LzhUQUFBQThuSnJsWEx2MXdTM1FHcGtCak1xUU9EM1lnSFZ6TmtxRWNia1BPZGt6ZUExci9BeTFxT3h0bVhJcnk2M2JabEUiLCJhbXIiOlsicHdkIl0sImFwcF9kaXNwbGF5bmFtZSI6InNiczIyMDIxLXR3aXR0ZXItZGF0YSIsImFwcGlkIjoiYjdiMjg1NGYtN2JlNS00NmUzLTg2MjktNmYxY2VlNGVjOWZjIiwiYXBwaWRhY3IiOiIxIiwiZmFtaWx5X25hbWUiOiJTYW5jaGV6IiwiZ2l2ZW5fbmFtZSI6IlJhdWwgTWFydGluIiwiaWR0eXAiOiJ1c2VyIiwiaXBhZGRyIjoiODYuNDEuMTc0LjM2IiwibmFtZSI6IlJhdWwgTWFydGluIFNhbmNoZXoiLCJvaWQiOiI1MDg3MmM2My01YTg4LTQ5NzQtODhmMi0wZGRkYTU4ODY1NDQiLCJwbGF0ZiI6IjMiLCJwdWlkIjoiMTAwMzIwMDFEQzI2MzRCRSIsInJoIjoiMC5BU0VBeXptaVVsTnlla0NOY1hUSTctVFlCQU1BQUFBQUFBQUF3QUFBQUFBQUFBQ0dBQ3cuIiwic2NwIjoiRmlsZXMuUmVhZFdyaXRlIG9wZW5pZCBwcm9maWxlIGVtYWlsIiwic2lnbmluX3N0YXRlIjpbImttc2kiXSwic3ViIjoiSHZfV0xoa2Y2cmFoNXpidHpyck8xekRyS3VHYUFBcGVqdmdFLXljQkdiNCIsInRlbmFudF9yZWdpb25fc2NvcGUiOiJFVSIsInRpZCI6IjUyYTIzOWNiLTcyNTMtNDA3YS04ZDcxLTc0YzhlZmU0ZDgwNCIsInVuaXF1ZV9uYW1lIjoic2JzMjIwMjFAc3R1ZGVudC5jY3QuaWUiLCJ1cG4iOiJzYnMyMjAyMUBzdHVkZW50LmNjdC5pZSIsInV0aSI6InJSb0cwMkYyZVVpSGlWWk9EZU13QUEiLCJ2ZXIiOiIxLjAiLCJ3aWRzIjpbImI3OWZiZjRkLTNlZjktNDY4OS04MTQzLTc2YjE5NGU4NTUwOSJdLCJ4bXNfc3QiOnsic3ViIjoiTVVQdTBnLU9GYTQyLURlMEZZNnUyM1F6bWVCXzdSck1wT3ZMQm9vWENxbyJ9LCJ4bXNfdGNkdCI6MTQ3ODExNDI1NiwieG1zX3RkYnIiOiJFVSJ9.iUggkqydMqDRRMyUljvQndwK2ZdeZrkrNdKU8s4FYoWrFGb4WX-f71ECvSK7SyWNM9Nck48gfdt1CmAN7vCMhll9pqArllOCWy_DB9cZA_dACbktF4l-mkj_kl-GEBd_XNwmk4MzBtG9zNs7zpvNnFPHUfFlOIgY9ginRG04aF6z0ulh_wLGGjBaa2p91EmgVmHjTDDgfg9LQZlIbX9Mr0ODSit_ZDkIe8Oi7zwh8oWdBvKaMj6UkVZyrxGopNcAyw8KczgrTO24_kgqveZ866C53d-Nf3Q_rug_VbE5vT_zZZ-9zqzBdrUsXLY5x21lYwPHq6GH-A8A5iuHS2NTQw\"\n",
    "print(access_token)"
   ]
  },
  {
   "cell_type": "code",
   "execution_count": 94,
   "id": "92b9ed9c-91ae-467f-878f-cc5049b6a96f",
   "metadata": {},
   "outputs": [],
   "source": [
    "def get_all_files(directory):\n",
    "    file_list = []\n",
    "    for root, dirs, files in os.walk(directory):\n",
    "        for file in files:\n",
    "            file_list.append(os.path.join(root, file))\n",
    "    return file_list\n",
    "\n",
    "\n",
    "def upload_large_file_in_chunks(access_token, file_path):\n",
    "    filename = os.path.basename(file_path)\n",
    "\n",
    "    # Create an upload session for the large file\n",
    "    create_session_url = f\"https://graph.microsoft.com/v1.0/me/drive/root:/twitter/{filename}:/createUploadSession\"\n",
    "    create_session_data = {\n",
    "        \"item\": {\n",
    "            \"@microsoft.graph.conflictBehavior\": \"replace\"\n",
    "        }\n",
    "    }\n",
    "    headers = {\n",
    "        \"Authorization\": f\"Bearer {access_token}\",\n",
    "    }\n",
    "    create_session_response = requests.post(create_session_url, headers=headers, json=create_session_data)\n",
    "    upload_url = create_session_response.json()[\"uploadUrl\"]\n",
    "\n",
    "    # Upload the file in chunks\n",
    "    chunk_size = 320 * 1024  # 320 KB\n",
    "    file_size = os.path.getsize(file_path)\n",
    "    with open(file_path, \"rb\") as file:\n",
    "        for start in range(0, file_size, chunk_size):\n",
    "            end = min(start + chunk_size - 1, file_size - 1)\n",
    "            file.seek(start)\n",
    "            chunk_data = file.read(chunk_size)\n",
    "            headers = {\n",
    "                \"Content-Length\": str(end - start + 1),\n",
    "                \"Content-Range\": f\"bytes {start}-{end}/{file_size}\",\n",
    "            }\n",
    "            chunk_response = requests.put(upload_url, headers=headers, data=chunk_data)\n",
    "\n",
    "            if chunk_response.status_code not in [200, 201, 202]:\n",
    "                print(f\"Error uploading chunk from {start} to {end}\")\n",
    "                return\n",
    "\n",
    "    print(f\"File '{filename}' uploaded successfully\")\n",
    "\n",
    "def upload_to_one_drive(access_token, file_path):\n",
    "    # Upload the file\n",
    "    filename = os.path.basename(file_path)\n",
    "    \n",
    "    check_file_url = f\"https://graph.microsoft.com/v1.0/me/drive/root:/twitter/{filename}\"\n",
    "    headers = {\n",
    "        \"Authorization\": f\"Bearer {access_token}\",\n",
    "    }\n",
    "    # Check if file exists\n",
    "    check_response = requests.get(check_file_url, headers=headers)\n",
    "\n",
    "    if check_response.status_code == 200:\n",
    "        print(f\"The file '{filename}' already exists in your OneDrive.\")\n",
    "    else:\n",
    "        upload_large_file_in_chunks(access_token,file_path)\n"
   ]
  },
  {
   "cell_type": "code",
   "execution_count": 95,
   "id": "94490dad-b66c-48b7-bda3-21020024a7c7",
   "metadata": {},
   "outputs": [
    {
     "name": "stdout",
     "output_type": "stream",
     "text": [
      "File 'twitter_stream_2020_01_01.tar' uploaded successfully\n"
     ]
    },
    {
     "ename": "KeyError",
     "evalue": "'uploadUrl'",
     "output_type": "error",
     "traceback": [
      "\u001b[0;31m---------------------------------------------------------------------------\u001b[0m",
      "\u001b[0;31mKeyError\u001b[0m                                  Traceback (most recent call last)",
      "Cell \u001b[0;32mIn[95], line 2\u001b[0m\n\u001b[1;32m      1\u001b[0m \u001b[38;5;28;01mfor\u001b[39;00m file \u001b[38;5;129;01min\u001b[39;00m get_all_files(FILE_DIR):\n\u001b[0;32m----> 2\u001b[0m     \u001b[43mupload_to_one_drive\u001b[49m\u001b[43m(\u001b[49m\u001b[43maccess_token\u001b[49m\u001b[43m,\u001b[49m\u001b[43mfile\u001b[49m\u001b[43m)\u001b[49m\n",
      "Cell \u001b[0;32mIn[94], line 59\u001b[0m, in \u001b[0;36mupload_to_one_drive\u001b[0;34m(access_token, file_path)\u001b[0m\n\u001b[1;32m     57\u001b[0m     \u001b[38;5;28mprint\u001b[39m(\u001b[38;5;124mf\u001b[39m\u001b[38;5;124m\"\u001b[39m\u001b[38;5;124mThe file \u001b[39m\u001b[38;5;124m'\u001b[39m\u001b[38;5;132;01m{\u001b[39;00mfilename\u001b[38;5;132;01m}\u001b[39;00m\u001b[38;5;124m'\u001b[39m\u001b[38;5;124m already exists in your OneDrive.\u001b[39m\u001b[38;5;124m\"\u001b[39m)\n\u001b[1;32m     58\u001b[0m \u001b[38;5;28;01melse\u001b[39;00m:\n\u001b[0;32m---> 59\u001b[0m     \u001b[43mupload_large_file_in_chunks\u001b[49m\u001b[43m(\u001b[49m\u001b[43maccess_token\u001b[49m\u001b[43m,\u001b[49m\u001b[43mfile_path\u001b[49m\u001b[43m)\u001b[49m\n",
      "Cell \u001b[0;32mIn[94], line 23\u001b[0m, in \u001b[0;36mupload_large_file_in_chunks\u001b[0;34m(access_token, file_path)\u001b[0m\n\u001b[1;32m     19\u001b[0m headers \u001b[38;5;241m=\u001b[39m {\n\u001b[1;32m     20\u001b[0m     \u001b[38;5;124m\"\u001b[39m\u001b[38;5;124mAuthorization\u001b[39m\u001b[38;5;124m\"\u001b[39m: \u001b[38;5;124mf\u001b[39m\u001b[38;5;124m\"\u001b[39m\u001b[38;5;124mBearer \u001b[39m\u001b[38;5;132;01m{\u001b[39;00maccess_token\u001b[38;5;132;01m}\u001b[39;00m\u001b[38;5;124m\"\u001b[39m,\n\u001b[1;32m     21\u001b[0m }\n\u001b[1;32m     22\u001b[0m create_session_response \u001b[38;5;241m=\u001b[39m requests\u001b[38;5;241m.\u001b[39mpost(create_session_url, headers\u001b[38;5;241m=\u001b[39mheaders, json\u001b[38;5;241m=\u001b[39mcreate_session_data)\n\u001b[0;32m---> 23\u001b[0m upload_url \u001b[38;5;241m=\u001b[39m \u001b[43mcreate_session_response\u001b[49m\u001b[38;5;241;43m.\u001b[39;49m\u001b[43mjson\u001b[49m\u001b[43m(\u001b[49m\u001b[43m)\u001b[49m\u001b[43m[\u001b[49m\u001b[38;5;124;43m\"\u001b[39;49m\u001b[38;5;124;43muploadUrl\u001b[39;49m\u001b[38;5;124;43m\"\u001b[39;49m\u001b[43m]\u001b[49m\n\u001b[1;32m     25\u001b[0m \u001b[38;5;66;03m# Upload the file in chunks\u001b[39;00m\n\u001b[1;32m     26\u001b[0m chunk_size \u001b[38;5;241m=\u001b[39m \u001b[38;5;241m320\u001b[39m \u001b[38;5;241m*\u001b[39m \u001b[38;5;241m1024\u001b[39m  \u001b[38;5;66;03m# 320 KB\u001b[39;00m\n",
      "\u001b[0;31mKeyError\u001b[0m: 'uploadUrl'"
     ]
    }
   ],
   "source": [
    "for file in get_all_files(FILE_DIR):\n",
    "    upload_to_one_drive(access_token,file)\n"
   ]
  },
  {
   "cell_type": "code",
   "execution_count": 96,
   "id": "6b6e0db9-4646-4940-8e2d-1e3e433f2c10",
   "metadata": {},
   "outputs": [
    {
     "ename": "NameError",
     "evalue": "name 'create_session_response' is not defined",
     "output_type": "error",
     "traceback": [
      "\u001b[0;31m---------------------------------------------------------------------------\u001b[0m",
      "\u001b[0;31mNameError\u001b[0m                                 Traceback (most recent call last)",
      "Cell \u001b[0;32mIn[96], line 1\u001b[0m\n\u001b[0;32m----> 1\u001b[0m \u001b[43mcreate_session_response\u001b[49m\n",
      "\u001b[0;31mNameError\u001b[0m: name 'create_session_response' is not defined"
     ]
    }
   ],
   "source": [
    "create_session_response"
   ]
  },
  {
   "cell_type": "code",
   "execution_count": null,
   "id": "96add89f-8e6f-4d5d-bfb2-fddea490da35",
   "metadata": {},
   "outputs": [],
   "source": []
  }
 ],
 "metadata": {
  "kernelspec": {
   "display_name": "Python 3.8 - Spark (local)",
   "language": "python",
   "name": "spark-3-python"
  },
  "language_info": {
   "codemirror_mode": {
    "name": "ipython",
    "version": 3
   },
   "file_extension": ".py",
   "mimetype": "text/x-python",
   "name": "python",
   "nbconvert_exporter": "python",
   "pygments_lexer": "ipython3",
   "version": "3.8.15"
  }
 },
 "nbformat": 4,
 "nbformat_minor": 5
}
