{
 "cells": [
  {
   "cell_type": "code",
   "execution_count": 1,
   "id": "be4c644c-4165-4a38-b254-672d4cb77757",
   "metadata": {},
   "outputs": [
    {
     "data": {
      "text/html": [
       "\n",
       "        <div>\n",
       "            <p><b>SparkContext</b></p>\n",
       "\n",
       "            <p><a href=\"http://rmsryu-vm.internal.cloudapp.net:4042\">Spark UI</a></p>\n",
       "\n",
       "            <dl>\n",
       "              <dt>Version</dt>\n",
       "                <dd><code>v3.2.3</code></dd>\n",
       "              <dt>Master</dt>\n",
       "                <dd><code>local[*]</code></dd>\n",
       "              <dt>AppName</dt>\n",
       "                <dd><code>pyspark-shell</code></dd>\n",
       "            </dl>\n",
       "        </div>\n",
       "        "
      ],
      "text/plain": [
       "<SparkContext master=local[*] appName=pyspark-shell>"
      ]
     },
     "execution_count": 1,
     "metadata": {},
     "output_type": "execute_result"
    }
   ],
   "source": [
    "sc"
   ]
  },
  {
   "cell_type": "markdown",
   "id": "9b5c7246-de85-4727-bfc1-795974ed0a49",
   "metadata": {},
   "source": [
    "# Move tweet files to hadoop"
   ]
  },
  {
   "cell_type": "code",
   "execution_count": 2,
   "id": "b2f91a7c-1d82-4980-81b5-5a7cd9f6ba56",
   "metadata": {},
   "outputs": [],
   "source": [
    "from hdfs import InsecureClient\n",
    "HADOOP_WEBDFS = 'http://hadoop-vm.internal.cloudapp.net:9870'"
   ]
  },
  {
   "cell_type": "code",
   "execution_count": 3,
   "id": "0e4e8b35-e17e-4351-bd2c-ebc32ccc2a9c",
   "metadata": {},
   "outputs": [],
   "source": [
    "tweet_folder_paths = [\"data-01/tweets\",\n",
    "                      \"data-01/tweets/job-0\",\n",
    "                      \"data-01/tweets/job-1\"]"
   ]
  },
  {
   "cell_type": "code",
   "execution_count": 4,
   "id": "5cd9aff4-1bc6-4528-9da9-cdbe4f48f565",
   "metadata": {},
   "outputs": [],
   "source": [
    "def copy_to_hadoop(folder_path, local_files, hdfs_dir):\n",
    "    client = InsecureClient(HADOOP_WEBDFS, user='hduser')\n",
    "\n",
    "    for local_file in local_files:\n",
    "        hdfs_path = f\"{hdfs_dir}/{local_file}\"\n",
    "        client.upload(hdfs_path, f\"{folder_path}/{local_file}\")\n",
    "\n",
    "def get_json_files(directory):\n",
    "    all_files = os.listdir(directory)\n",
    "    json_files = [file for file in all_files if file.startswith(\"covid-tweets\") and file.endswith('.json')]\n",
    "    return json_files"
   ]
  },
  {
   "cell_type": "code",
   "execution_count": 9,
   "id": "12be510e-2e8c-4a03-8d4e-a238bea199ec",
   "metadata": {},
   "outputs": [],
   "source": [
    "# Upload files in first Disk\n",
    "tweet_folder_path = tweet_folder_paths[2]\n",
    "local_files = get_json_files(tweet_folder_path)\n",
    "hdfs_dir = '/twitter'  # Hadoop HDFS directory where the files will be copied\n",
    "copy_to_hadoop(tweet_folder_path, local_files, hdfs_dir)\n"
   ]
  },
  {
   "cell_type": "code",
   "execution_count": null,
   "id": "277dc7b1-1bbe-453f-b8f3-22595d333e6f",
   "metadata": {},
   "outputs": [],
   "source": []
  }
 ],
 "metadata": {
  "kernelspec": {
   "display_name": "Python 3.8 - Spark (local)",
   "language": "python",
   "name": "spark-3-python"
  },
  "language_info": {
   "codemirror_mode": {
    "name": "ipython",
    "version": 3
   },
   "file_extension": ".py",
   "mimetype": "text/x-python",
   "name": "python",
   "nbconvert_exporter": "python",
   "pygments_lexer": "ipython3",
   "version": "3.8.15"
  }
 },
 "nbformat": 4,
 "nbformat_minor": 5
}
