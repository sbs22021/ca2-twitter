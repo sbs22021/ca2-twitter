{
 "cells": [
  {
   "cell_type": "code",
   "execution_count": 15,
   "id": "4e700b1e-71d3-46e2-b762-a5de5d06dc3e",
   "metadata": {},
   "outputs": [
    {
     "name": "stdout",
     "output_type": "stream",
     "text": [
      "root\n",
      " |-- _id: long (nullable = true)\n",
      " |-- coordinates: void (nullable = true)\n",
      " |-- full_text: string (nullable = true)\n",
      " |-- geo: void (nullable = true)\n",
      " |-- text: string (nullable = true)\n",
      " |-- timestamp: timestamp (nullable = true)\n",
      " |-- timestamp_ms: string (nullable = true)\n",
      "\n"
     ]
    }
   ],
   "source": [
    "import pyspark\n",
    "from pyspark import SparkContext, SparkConf\n",
    "from pyspark.sql import SparkSession, SQLContext, functions as F\n",
    "from pyspark.sql.functions import *\n",
    "\n",
    "mongo_uri = \"mongodb://hadoop-vm.internal.cloudapp.net:27017/ca2\"\n",
    "\n",
    "# Spark version 3.2.3\n",
    "# MongoDB version 6.0.5\n",
    "# Java Version 11\n",
    "\n",
    "# create a spark session\n",
    "# Jars dependencies available in maven repository\n",
    "# https://mvnrepository.com/search?q=mongodb-driver-sync\n",
    "spark = SparkSession.builder \\\n",
    "    .appName('Tweets') \\\n",
    "    .config(\"spark.mongodb.read.connection.uri\", mongo_uri) \\\n",
    "    .config(\"spark.mongodb.write.connection.uri\", mongo_uri) \\\n",
    "    .config(\"spark.jars.packages\", \"org.mongodb.spark:mongo-spark-connector_2.12:10.1.1\") \\\n",
    "    .config(\"spark.jars.packages\", \"org.mongodb:mongodb-driver-core:4.9.1\") \\\n",
    "    .config(\"spark.jars.packages\", \"org.mongodb:mongodb-driver-sync:4.9.1\") \\\n",
    "    .config(\"spark.jars.packages\", \"org.mongodb:bson:4.9.1\") \\\n",
    "    .getOrCreate()\n",
    "\n",
    "# read data from mongodb collection \"tweets\" into a dataframe \"df\"\n",
    "df = spark.read \\\n",
    "    .format(\"mongodb\") \\\n",
    "    .option(\"connection.uri\", mongo_uri) \\\n",
    "    .option(\"database\", \"ca2\") \\\n",
    "    .option(\"collection\", \"tweets\") \\\n",
    "    .load()\n",
    "\n",
    "df.printSchema()"
   ]
  },
  {
   "cell_type": "markdown",
   "id": "6f238379-a72e-4a05-8559-1cca61466e9e",
   "metadata": {},
   "source": [
    "# Create a timeseries collection in Mongo DB\n",
    "\n",
    "\n",
    "## Step 1: Mongo shell create timeseries_tweets collection\n",
    "```javascript\n",
    "use ca2;\n",
    "\n",
    "db.createCollection(\"timeseries_tweets\", {\n",
    "  \"timeseries\": {\n",
    "    \"timeField\": \"timestamp\",\n",
    "    \"metaField\": \"laboratory\", \n",
    "    \"granularity\": \"minutes\"\n",
    "  }\n",
    "});\n",
    "```\n"
   ]
  },
  {
   "cell_type": "markdown",
   "id": "649888ea-93d8-46f8-b81b-5f943c97ebe6",
   "metadata": {},
   "source": [
    "## Step 2: On existing tweets collection create a new timestamp field \n",
    "\n",
    "```javascript\n",
    "db.tweets.find().forEach(function (doc) {\n",
    "  var timestamp = new Date(Number(doc.timestamp_ms));\n",
    "  var updateDoc = { $set: { \"timestamp\": timestamp } };\n",
    "  db.tweets.updateOne({ \"_id\": doc._id }, updateDoc);\n",
    "});\n",
    "```\n",
    "\n"
   ]
  },
  {
   "cell_type": "markdown",
   "id": "0cbc9833-990d-4c85-891d-c4c79427eee4",
   "metadata": {},
   "source": [
    "## Step 3: Migrate tweets collection to timeseries_tweets\n",
    "\n",
    "```javascript\n",
    "db.tweets.find().forEach(function (doc) {\n",
    "  db.timeseries_tweets.insertOne(doc);\n",
    "});\n",
    "\n",
    "```"
   ]
  },
  {
   "cell_type": "markdown",
   "id": "d43742a7",
   "metadata": {},
   "source": [
    "## Tweets Statistics"
   ]
  },
  {
   "cell_type": "markdown",
   "id": "9ef63fd4",
   "metadata": {},
   "source": [
    "### Total count tweets by laboratory"
   ]
  },
  {
   "cell_type": "code",
   "execution_count": 8,
   "id": "d37b5590-9eec-4067-9768-3bed3ef930b3",
   "metadata": {},
   "outputs": [],
   "source": [
    "# No need to compare with lower case as we are looking for exact match on hastags\n",
    "def contains_hashtags(column, hashtags):\n",
    "    condition = None\n",
    "    for hashtag in hashtags:\n",
    "        if condition is None:\n",
    "            condition = column.contains(hashtag)\n",
    "        else:\n",
    "            condition = condition | column.contains(hashtag)\n",
    "    return condition\n"
   ]
  },
  {
   "cell_type": "code",
   "execution_count": 9,
   "id": "e580a75b-1554-42a3-b1c6-9a3b5398b7de",
   "metadata": {},
   "outputs": [],
   "source": [
    "laboratories = ['#Moderna', '#Pfizer', '#BioNTech', '#AstraZeneca', '#JohnsonAndJohnson', '#Janssen', '#Novavax', '#Sinovac', '#Sinopharm', '#Sanofi', '#GSK']"
   ]
  },
  {
   "cell_type": "code",
   "execution_count": 10,
   "id": "573b38ad",
   "metadata": {},
   "outputs": [],
   "source": [
    "# Filtering tweets containing laboratories\n",
    "df_lab = df.filter(contains_hashtags(col(\"text\"), laboratories))"
   ]
  },
  {
   "cell_type": "code",
   "execution_count": 13,
   "id": "f6384829",
   "metadata": {},
   "outputs": [],
   "source": [
    "df_lab_monthly = df_lab.groupBy(   \n",
    "    when(col(\"text\").contains('#AstraZeneca'), \"AstraZeneca\").alias(\"laboratory\"),\n",
    "    date_trunc(\"month\", \"timestamp\").alias(\"month\")\n",
    ").count() \\\n",
    ".groupBy(\"laboratory\").agg(avg(\"count\").alias(\"avg_tweets_per_month\"))"
   ]
  },
  {
   "cell_type": "code",
   "execution_count": 14,
   "id": "4adf071f",
   "metadata": {},
   "outputs": [
    {
     "name": "stdout",
     "output_type": "stream",
     "text": [
      "+-----------+--------------------+\n",
      "| laboratory|avg_tweets_per_month|\n",
      "+-----------+--------------------+\n",
      "|AstraZeneca|   636.9166666666666|\n",
      "|       null|   778.5833333333334|\n",
      "+-----------+--------------------+\n",
      "\n"
     ]
    }
   ],
   "source": [
    "df_lab_monthly.show()"
   ]
  },
  {
   "cell_type": "markdown",
   "id": "849fec53",
   "metadata": {},
   "source": [
    "# Create AstraZeneca collection"
   ]
  },
  {
   "cell_type": "code",
   "execution_count": 16,
   "id": "84584e8d",
   "metadata": {},
   "outputs": [],
   "source": [
    "df_astrazeneca = df.filter(col(\"text\").contains('#AstraZeneca'))\n",
    "df_astrazeneca.write \\\n",
    "    .format(\"mongodb\") \\\n",
    "    .mode(\"overwrite\") \\\n",
    "    .option(\"connection.uri\", mongo_uri) \\\n",
    "    .option(\"database\", \"ca2\") \\\n",
    "    .option(\"collection\", \"astrazeneca_tweets\") \\\n",
    "    .save()"
   ]
  },
  {
   "cell_type": "code",
   "execution_count": null,
   "id": "4e561a98",
   "metadata": {},
   "outputs": [],
   "source": []
  }
 ],
 "metadata": {
  "kernelspec": {
   "display_name": "Python 3 (ipykernel)",
   "language": "python",
   "name": "python3"
  },
  "language_info": {
   "codemirror_mode": {
    "name": "ipython",
    "version": 3
   },
   "file_extension": ".py",
   "mimetype": "text/x-python",
   "name": "python",
   "nbconvert_exporter": "python",
   "pygments_lexer": "ipython3",
   "version": "3.9.13"
  }
 },
 "nbformat": 4,
 "nbformat_minor": 5
}
