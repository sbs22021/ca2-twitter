{
 "cells": [
  {
   "cell_type": "code",
   "execution_count": null,
   "id": "cb708044",
   "metadata": {},
   "outputs": [],
   "source": [
    "import warnings\n",
    "import pandas as pd\n",
    "import pyspark\n",
    "import numpy as np\n",
    "import matplotlib.pyplot as plt\n",
    "from datetime import datetime, timedelta\n",
    "from pyspark import SparkContext, SparkConf\n",
    "from pyspark.sql import SparkSession, SQLContext\n",
    "from pyspark.sql.window import Window\n",
    "from pyspark.ml.feature import VectorAssembler\n",
    "from pyspark.ml.regression import LinearRegression\n",
    "from pyspark.ml.evaluation import RegressionEvaluator\n",
    "from pyspark.sql.types import FloatType\n",
    "from pyspark.sql.functions import when, col, to_date, lag\n",
    "from pyspark.sql.functions import to_timestamp, count, isnan, isnull, mean, rand\n",
    "\n",
    "warnings.filterwarnings(\"ignore\")"
   ]
  },
  {
   "cell_type": "code",
   "execution_count": null,
   "id": "25d508a2",
   "metadata": {},
   "outputs": [],
   "source": [
    "mongo_uri = \"mongodb://hadoop-vm.internal.cloudapp.net:27017/ca2\"\n",
    "\n",
    "# Spark version 3.2.3\n",
    "# MongoDB version 6.0.5\n",
    "# Java Version 11\n",
    "\n",
    "# create a spark session\n",
    "# Jars dependencies available in maven repository\n",
    "# https://mvnrepository.com/search?q=mongodb-driver-sync\n",
    "spark = SparkSession.builder \\\n",
    "    .appName('Tweets') \\\n",
    "    .config(\"spark.mongodb.read.connection.uri\", mongo_uri) \\\n",
    "    .config(\"spark.mongodb.write.connection.uri\", mongo_uri) \\\n",
    "    .config(\"spark.jars.packages\", \"org.mongodb.spark:mongo-spark-connector_2.12:10.1.1\") \\\n",
    "    .config(\"spark.jars.packages\", \"org.mongodb:mongodb-driver-core:4.9.1\") \\\n",
    "    .config(\"spark.jars.packages\", \"org.mongodb:mongodb-driver-sync:4.9.1\") \\\n",
    "    .config(\"spark.jars.packages\", \"org.mongodb:bson:4.9.1\") \\\n",
    "    .getOrCreate()\n"
   ]
  },
  {
   "cell_type": "markdown",
   "id": "9648dbac-915b-4b24-bb30-1f83acd7a126",
   "metadata": {},
   "source": [
    "# Load vaccine tweets for analysis\n",
    "> Note: vaccin_tweets_2_202004 collection include missing month of April 2020"
   ]
  },
  {
   "cell_type": "code",
   "execution_count": null,
   "id": "bdc5bf50",
   "metadata": {},
   "outputs": [],
   "source": [
    "# read data from mongodb collection \"tweets\" into a dataframe \"df\"\n",
    "df_tweets = spark.read \\\n",
    "    .format(\"mongodb\") \\\n",
    "    .option(\"connection.uri\", mongo_uri) \\\n",
    "    .option(\"database\", \"ca2\") \\\n",
    "    .option(\"collection\", \"vaccin_tweets_2_202004\") \\\n",
    "    .load()\n",
    "\n",
    "df_sentiment = spark.read \\\n",
    "    .format(\"mongodb\") \\\n",
    "    .option(\"connection.uri\", mongo_uri) \\\n",
    "    .option(\"database\", \"ca2\") \\\n",
    "    .option(\"collection\", \"vaccin_tweets_2_202004_sentiment\") \\\n",
    "    .load()"
   ]
  },
  {
   "cell_type": "code",
   "execution_count": null,
   "id": "fbd38f02",
   "metadata": {},
   "outputs": [],
   "source": [
    "# Create a new column 'is_retweet' based on the presence of 'RT' in the 'text' column\n",
    "df_tweets = df_tweets.withColumn(\"is_retweet\", (col(\"text\").like(\"RT%\")).cast(\"integer\"))"
   ]
  },
  {
   "cell_type": "code",
   "execution_count": null,
   "id": "1fca1d15",
   "metadata": {},
   "outputs": [],
   "source": [
    "df_tweets.show()"
   ]
  },
  {
   "cell_type": "code",
   "execution_count": null,
   "id": "8f88a428",
   "metadata": {},
   "outputs": [],
   "source": [
    "df_sentiment.show()"
   ]
  },
  {
   "cell_type": "code",
   "execution_count": null,
   "id": "13c2e4c1",
   "metadata": {},
   "outputs": [],
   "source": [
    "# Join data frames\n",
    "df = df_tweets.join(df_sentiment, on=\"_id\", how=\"inner\")\n"
   ]
  },
  {
   "cell_type": "code",
   "execution_count": null,
   "id": "960e7258",
   "metadata": {},
   "outputs": [],
   "source": [
    "# Convert timestamp to a format usable for analysis\n",
    "df = df.withColumn(\"timestamp\", to_timestamp(df[\"timestamp\"]))\n",
    "df = df.withColumn(\"date\", df[\"timestamp\"].cast(\"date\"))\n",
    "df = df.withColumn(\"s_probability\", col(\"s_probability\").cast(\"float\"))"
   ]
  },
  {
   "cell_type": "code",
   "execution_count": null,
   "id": "fba6f693",
   "metadata": {},
   "outputs": [],
   "source": [
    "df.createOrReplaceTempView(\"tweets\")\n",
    "spark.sql(\"SELECT MAX(date) maxdate, MIN(date) mindate FROM tweets\").show()"
   ]
  },
  {
   "cell_type": "markdown",
   "id": "29dddafd",
   "metadata": {},
   "source": [
    "## Initial dates"
   ]
  },
  {
   "cell_type": "code",
   "execution_count": null,
   "id": "61ffc611",
   "metadata": {},
   "outputs": [],
   "source": [
    "# Filter 1 year data\n",
    "start_date_str = '2020-04-01'\n",
    "start_date = datetime.strptime(start_date_str, \"%Y-%m-%d\")\n",
    "\n",
    "df = df.filter(f\"date >= date'{start_date_str}'\")"
   ]
  },
  {
   "cell_type": "code",
   "execution_count": null,
   "id": "b625aaaf",
   "metadata": {},
   "outputs": [],
   "source": [
    "df.createOrReplaceTempView(\"tweets\")\n",
    "spark.sql(\"SELECT MAX(date) maxdate, MIN(date) mindate FROM tweets\").show()"
   ]
  },
  {
   "cell_type": "code",
   "execution_count": null,
   "id": "3b8d2fb9",
   "metadata": {},
   "outputs": [],
   "source": [
    "# Encode sentiment and calculate weights score\n",
    "df = df.withColumn(\"sentiment_encoded\", \n",
    "                    when(col(\"sentiment\") == \"positive\", 2)\n",
    "                   .when(col(\"sentiment\") == \"negative\", -1)\n",
    "                   .otherwise(1))\n",
    "df = df.withColumn(\"sentiment_score\", col(\"sentiment_encoded\") * col(\"s_probability\"))\n",
    "df = df.withColumn(\"sentiment_encoded\", col(\"sentiment_encoded\").cast(\"int\"))\n",
    "df = df.withColumn(\"sentiment_score\", col(\"sentiment_score\").cast(\"float\"))"
   ]
  },
  {
   "cell_type": "code",
   "execution_count": null,
   "id": "4f89057e",
   "metadata": {},
   "outputs": [],
   "source": [
    "df.describe()"
   ]
  },
  {
   "cell_type": "code",
   "execution_count": null,
   "id": "4c7ef627",
   "metadata": {},
   "outputs": [],
   "source": [
    "df[[\"date\",\"is_retweet\",\"sentiment_encoded\",\"s_probability\",\"sentiment_score\"]].show()"
   ]
  },
  {
   "cell_type": "code",
   "execution_count": null,
   "id": "9b7508ec",
   "metadata": {},
   "outputs": [],
   "source": [
    "# Aggregate sentiment by date and retweet rates to capture the retweet feature\n",
    "df_grouped = df.groupBy(\"date\").agg(mean(\"sentiment_score\").alias(\"avg_sentiment_score\"))\n",
    "df_grouped = df.groupBy(\"date\").agg(mean(\"sentiment_score\").alias(\"avg_sentiment_score\"), \n",
    "                                    mean(\"is_retweet\").alias(\"retweet_rate\"))\n",
    "\n",
    "# Ensure order of data\n",
    "df_grouped = df_grouped.orderBy(\"date\")\n"
   ]
  },
  {
   "cell_type": "code",
   "execution_count": null,
   "id": "1ee7afae",
   "metadata": {},
   "outputs": [],
   "source": [
    "df_grouped.show()"
   ]
  },
  {
   "cell_type": "markdown",
   "id": "dbf39db8",
   "metadata": {},
   "source": [
    "## Daily seasonality"
   ]
  },
  {
   "cell_type": "code",
   "execution_count": null,
   "id": "991c82a8",
   "metadata": {},
   "outputs": [],
   "source": [
    "def build_vector(lag_periods, df_grouped, skip_to):\n",
    "    window = Window.orderBy(\"date\")\n",
    "    \n",
    "    # Create groups for 1,2,3,4,5,6,7 weekly seasons.\n",
    "    for i in lag_periods:\n",
    "        df_grouped = df_grouped.withColumn(f'sentiment_score_lag_{i}', lag(col('avg_sentiment_score'), i).over(window))\n",
    "        \n",
    "    # Filter out the first 7 rows with NAN\n",
    "    filter_d = f\"date > date'{skip_to}'\"\n",
    "    df_grouped = df_grouped.filter(filter_d)\n",
    "    \n",
    "    input_cols = [f'sentiment_score_lag_{i}' for i in lag_periods]\n",
    "    input_cols.append(\"retweet_rate\")\n",
    "    input_cols\n",
    "    \n",
    "    # Assembler Vector - A feature transformer that merges multiple columns into a vector column.\n",
    "    # https://spark.apache.org/docs/3.1.3/api/python/reference/api/pyspark.ml.feature.VectorAssembler.html\n",
    "    va = VectorAssembler(\n",
    "        inputCols=input_cols,\n",
    "        outputCol='features')\n",
    "    \n",
    "    return va.transform(df_grouped)\n"
   ]
  },
  {
   "cell_type": "markdown",
   "id": "5e471593",
   "metadata": {},
   "source": [
    "## Linear regression"
   ]
  },
  {
   "cell_type": "markdown",
   "id": "f7d90bd8",
   "metadata": {},
   "source": [
    "# Daily lagging periods up to 7 Days\n",
    "\n",
    "Generates features:\n",
    "- retweet_rate\n",
    "- sentiment_score_lag_1 day\n",
    "- sentiment_score_lag_2 days\n",
    "- sentiment_score_lag_3 days\n",
    "- sentiment_score_lag_4 days\n",
    "- sentiment_score_lag_5 days\n",
    "- sentiment_score_lag_6 days\n",
    "- sentiment_score_lag_7 days"
   ]
  },
  {
   "cell_type": "code",
   "execution_count": null,
   "id": "7740773c",
   "metadata": {},
   "outputs": [],
   "source": [
    "va_df = build_vector([1,2,3,4,5,6,7], df_grouped, (start_date + timedelta(days=7)))"
   ]
  },
  {
   "cell_type": "code",
   "execution_count": null,
   "id": "6507bea7",
   "metadata": {},
   "outputs": [],
   "source": [
    "va_df.select([\"date\"]).show(1)"
   ]
  },
  {
   "cell_type": "code",
   "execution_count": null,
   "id": "a2206cc4",
   "metadata": {},
   "outputs": [],
   "source": [
    "# Prepare train and test datasets\n",
    "split_date = \"2020-12-31\"\n",
    "train = va_df.filter(va_df.date <= split_date)\n",
    "test = va_df.filter(va_df.date > split_date)\n",
    "\n",
    "# Linear regression model\n",
    "lr = LinearRegression(featuresCol='features', labelCol='avg_sentiment_score')\n",
    "\n",
    "# Fit the model\n",
    "lr_model_d = lr.fit(train)\n",
    "\n",
    "# Make predictions\n",
    "predictions = lr_model_d.transform(test)\n",
    "\n",
    "# Evaluate model\n",
    "evaluator = RegressionEvaluator(predictionCol='prediction', labelCol='avg_sentiment_score')\n",
    "\n",
    "print(\"MSE: \", lr_model_d.summary.meanSquaredError)\n",
    "print(\"MAE: \", lr_model_d.summary.meanAbsoluteError)\n",
    "print(\"R-squared: \", lr_model_d.summary.r2) \n",
    "print(f\"RMSE: {evaluator.evaluate(predictions)}\")\n"
   ]
  },
  {
   "cell_type": "markdown",
   "id": "1a3a810d",
   "metadata": {},
   "source": [
    "## Plot predictions"
   ]
  },
  {
   "cell_type": "code",
   "execution_count": null,
   "id": "46fb325e",
   "metadata": {},
   "outputs": [],
   "source": [
    "mdata = lr_model_d.transform(test)\n",
    "x_ax = range(0, mdata.count())\n",
    "y_pred = mdata.select(\"prediction\").collect()\n",
    "y_orig = mdata.select(\"avg_sentiment_score\").collect()\n",
    "\n",
    "plt.plot(x_ax, y_orig, label=\"original\")\n",
    "plt.plot(x_ax, y_pred, label=\"predicted\")\n",
    "plt.title(\"Tweets Sentiment test and predicted data\")\n",
    "plt.xlabel('X-axis')\n",
    "plt.ylabel('Y-axis')\n",
    "plt.legend(loc='best',fancybox=True, shadow=True)\n",
    "plt.grid(True)\n",
    "plt.show() "
   ]
  },
  {
   "cell_type": "markdown",
   "id": "e5b2d3df",
   "metadata": {},
   "source": [
    "# Weekly lagging periods 1, 7, 14, 21, 28, 35 days:\n",
    "\n",
    "Generates features:\n",
    "- retweet_rate\n",
    "- sentiment_score_lag_1 day\n",
    "- sentiment_score_lag_7 days\n",
    "- sentiment_score_lag_14 days\n",
    "- sentiment_score_lag_21 days\n",
    "- sentiment_score_lag_28 days\n",
    "- sentiment_score_lag_35 days\n"
   ]
  },
  {
   "cell_type": "code",
   "execution_count": null,
   "id": "8286d900",
   "metadata": {},
   "outputs": [],
   "source": [
    "va_df = build_vector([1, 7, 14, 21, 28, 35], df_grouped, (start_date + timedelta(days=35)))"
   ]
  },
  {
   "cell_type": "code",
   "execution_count": null,
   "id": "526bbb85",
   "metadata": {},
   "outputs": [],
   "source": [
    "va_df.select([\"date\"]).show(1)"
   ]
  },
  {
   "cell_type": "code",
   "execution_count": null,
   "id": "8fb7c68f",
   "metadata": {},
   "outputs": [],
   "source": [
    "# Prepare train and test datasets\n",
    "split_date = \"2021-01-01\"\n",
    "train = va_df.filter(va_df.date <= split_date)\n",
    "test = va_df.filter(va_df.date > split_date)\n",
    "\n",
    "# Linear regression model\n",
    "lr = LinearRegression(featuresCol='features', labelCol='avg_sentiment_score')\n",
    "\n",
    "# Fit the model\n",
    "lr_model_w = lr.fit(train)\n",
    "\n",
    "# Make predictions\n",
    "predictions = lr_model_w.transform(test)\n",
    "\n",
    "# Evaluate model\n",
    "evaluator = RegressionEvaluator(predictionCol='prediction', labelCol='avg_sentiment_score')\n",
    "\n",
    "print(\"MSE: \", lr_model_w.summary.meanSquaredError)\n",
    "print(\"MAE: \", lr_model_w.summary.meanAbsoluteError)\n",
    "print(\"R-squared: \", lr_model_w.summary.r2) \n",
    "print(f\"RMSE: {evaluator.evaluate(predictions)}\")\n"
   ]
  },
  {
   "cell_type": "code",
   "execution_count": null,
   "id": "6c75af1d",
   "metadata": {},
   "outputs": [],
   "source": [
    "train.count(),test.count()"
   ]
  },
  {
   "cell_type": "code",
   "execution_count": null,
   "id": "a6c3f0e4",
   "metadata": {},
   "outputs": [],
   "source": [
    "mdata = lr_model_w.transform(test)\n",
    "x_ax = range(0, mdata.count())\n",
    "y_pred = mdata.select(\"prediction\").collect()\n",
    "y_orig = mdata.select(\"avg_sentiment_score\").collect()\n",
    "\n",
    "plt.plot(x_ax, y_orig, label=\"original\")\n",
    "plt.plot(x_ax, y_pred, label=\"predicted\")\n",
    "plt.title(\"Tweets Sentiment test and predicted data\")\n",
    "plt.xlabel('X-axis')\n",
    "plt.ylabel('Y-axis')\n",
    "plt.legend(loc='best',fancybox=True, shadow=True)\n",
    "plt.grid(True)\n",
    "plt.show() "
   ]
  },
  {
   "cell_type": "markdown",
   "id": "89d59c40",
   "metadata": {},
   "source": [
    "## Biweekly laggin periods 1, 14, 28, 42, 56, 70, 84 days:\n",
    "\n",
    "Generates features:\n",
    "- retweet_rate\n",
    "- sentiment_score_lag_1 day\n",
    "- sentiment_score_lag_14 days\n",
    "- sentiment_score_lag_28 days\n",
    "- sentiment_score_lag_42 days\n",
    "- sentiment_score_lag_56 days\n",
    "- sentiment_score_lag_70 days\n",
    "- sentiment_score_lag_84 days\n"
   ]
  },
  {
   "cell_type": "code",
   "execution_count": null,
   "id": "8ecc0507",
   "metadata": {},
   "outputs": [],
   "source": [
    "va_df = build_vector([1, 14, 28, 42, 56, 70, 84], df_grouped, (start_date + timedelta(days=84+3)))"
   ]
  },
  {
   "cell_type": "code",
   "execution_count": null,
   "id": "c1c00195",
   "metadata": {},
   "outputs": [],
   "source": [
    "# Prepare train and test datasets\n",
    "split_date = \"2021-02-01\"\n",
    "train = va_df.filter(va_df.date <= split_date)\n",
    "test = va_df.filter(va_df.date > split_date)\n",
    "\n",
    "# Linear regression model\n",
    "lr = LinearRegression(featuresCol='features', labelCol='avg_sentiment_score')\n",
    "\n",
    "# Fit the model\n",
    "lr_model_bw = lr.fit(train)\n",
    "\n",
    "# Make predictions\n",
    "predictions = lr_model_bw.transform(test)\n",
    "\n",
    "# Evaluate model\n",
    "evaluator = RegressionEvaluator(predictionCol='prediction', labelCol='avg_sentiment_score')\n",
    "\n",
    "print(\"MSE: \", lr_model_bw.summary.meanSquaredError)\n",
    "print(\"MAE: \", lr_model_bw.summary.meanAbsoluteError)\n",
    "print(\"R-squared: \", lr_model_bw.summary.r2) \n",
    "print(f\"RMSE: {evaluator.evaluate(predictions)}\")\n"
   ]
  },
  {
   "cell_type": "code",
   "execution_count": null,
   "id": "edd53391",
   "metadata": {},
   "outputs": [],
   "source": [
    "train.count(), test.count()"
   ]
  },
  {
   "cell_type": "code",
   "execution_count": null,
   "id": "5b4e4b40",
   "metadata": {},
   "outputs": [],
   "source": [
    "mdata = lr_model_bw.transform(test)\n",
    "x_ax = range(0, mdata.count())\n",
    "y_pred = mdata.select(\"prediction\").collect()\n",
    "y_orig = mdata.select(\"avg_sentiment_score\").collect()\n",
    "\n",
    "plt.plot(x_ax, y_orig, label=\"original\")\n",
    "plt.plot(x_ax, y_pred, label=\"predicted\")\n",
    "plt.title(\"Tweets Sentiment test and predicted data\")\n",
    "plt.xlabel('X-axis')\n",
    "plt.ylabel('Y-axis')\n",
    "plt.legend(loc='best',fancybox=True, shadow=True)\n",
    "plt.grid(True)\n",
    "plt.show() "
   ]
  },
  {
   "cell_type": "markdown",
   "id": "1a73c613",
   "metadata": {},
   "source": [
    "# Best model: Biweekly lagging features\n",
    "\n",
    "va_df = build_vector([1, 14, 28, 42, 56, 70, 84], df_grouped, (start_date + timedelta(days=84+3)))\n",
    "\n",
    "Feature Selection:\n",
    "```\n",
    " 'retweet_rate'\n",
    " 'sentiment_score_lag_1'\n",
    " 'sentiment_score_lag_14'\n",
    " 'sentiment_score_lag_28'\n",
    " 'sentiment_score_lag_42'\n",
    " 'sentiment_score_lag_56'\n",
    " 'sentiment_score_lag_70'\n",
    " 'sentiment_score_lag_84'\n",
    "```\n",
    "> RMSE: 0.0895482549334093\n",
    "```\n",
    "MSE:  0.021009647134220523\n",
    "MAE:  0.10486859980823686\n",
    "R-squared:  0.1471076439767326\n",
    "RMSE: 0.0895482549334093\n",
    "``` \n"
   ]
  },
  {
   "cell_type": "code",
   "execution_count": null,
   "id": "90f82ca8",
   "metadata": {},
   "outputs": [],
   "source": [
    "lr_model_bw"
   ]
  },
  {
   "cell_type": "code",
   "execution_count": null,
   "id": "ecced595",
   "metadata": {},
   "outputs": [],
   "source": []
  }
 ],
 "metadata": {
  "kernelspec": {
   "display_name": "Python 3 (ipykernel)",
   "language": "python",
   "name": "python3"
  },
  "language_info": {
   "codemirror_mode": {
    "name": "ipython",
    "version": 3
   },
   "file_extension": ".py",
   "mimetype": "text/x-python",
   "name": "python",
   "nbconvert_exporter": "python",
   "pygments_lexer": "ipython3",
   "version": "3.9.13"
  }
 },
 "nbformat": 4,
 "nbformat_minor": 5
}
