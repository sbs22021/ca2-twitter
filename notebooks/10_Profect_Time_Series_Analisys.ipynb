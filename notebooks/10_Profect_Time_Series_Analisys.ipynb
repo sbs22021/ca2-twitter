{
 "cells": [
  {
   "cell_type": "code",
   "execution_count": 14,
   "id": "62436f12",
   "metadata": {},
   "outputs": [
    {
     "name": "stdout",
     "output_type": "stream",
     "text": [
      "Collecting prophet\n",
      "  Downloading prophet-1.1.3-py3-none-manylinux_2_17_x86_64.manylinux2014_x86_64.whl (8.9 MB)\n",
      "\u001b[2K     \u001b[90m━━━━━━━━━━━━━━━━━━━━━━━━━━━━━━━━━━━━━━━━\u001b[0m \u001b[32m8.9/8.9 MB\u001b[0m \u001b[31m31.2 MB/s\u001b[0m eta \u001b[36m0:00:00\u001b[0m00:01\u001b[0m00:01\u001b[0m\n",
      "\u001b[?25hRequirement already satisfied: convertdate>=2.1.2 in /anaconda/envs/py38_default/lib/python3.8/site-packages (from prophet) (2.4.0)\n",
      "Collecting cmdstanpy>=1.0.4\n",
      "  Downloading cmdstanpy-1.1.0-py3-none-any.whl (83 kB)\n",
      "\u001b[2K     \u001b[90m━━━━━━━━━━━━━━━━━━━━━━━━━━━━━━━━━━━━━━━━\u001b[0m \u001b[32m83.2/83.2 kB\u001b[0m \u001b[31m14.8 MB/s\u001b[0m eta \u001b[36m0:00:00\u001b[0m\n",
      "\u001b[?25hRequirement already satisfied: pandas>=1.0.4 in /anaconda/envs/py38_default/lib/python3.8/site-packages (from prophet) (1.5.3)\n",
      "Requirement already satisfied: holidays>=0.14.2 in /anaconda/envs/py38_default/lib/python3.8/site-packages (from prophet) (0.18)\n",
      "Requirement already satisfied: matplotlib>=2.0.0 in /anaconda/envs/py38_default/lib/python3.8/site-packages (from prophet) (3.2.1)\n",
      "Requirement already satisfied: importlib-resources in /anaconda/envs/py38_default/lib/python3.8/site-packages (from prophet) (5.2.0)\n",
      "Requirement already satisfied: tqdm>=4.36.1 in /anaconda/envs/py38_default/lib/python3.8/site-packages (from prophet) (4.64.1)\n",
      "Requirement already satisfied: numpy>=1.15.4 in /anaconda/envs/py38_default/lib/python3.8/site-packages (from prophet) (1.23.5)\n",
      "Requirement already satisfied: python-dateutil>=2.8.0 in /anaconda/envs/py38_default/lib/python3.8/site-packages (from prophet) (2.8.2)\n",
      "Requirement already satisfied: LunarCalendar>=0.0.9 in /anaconda/envs/py38_default/lib/python3.8/site-packages (from prophet) (0.0.9)\n",
      "Requirement already satisfied: pymeeus<=1,>=0.3.13 in /anaconda/envs/py38_default/lib/python3.8/site-packages (from convertdate>=2.1.2->prophet) (0.5.12)\n",
      "Requirement already satisfied: korean-lunar-calendar in /anaconda/envs/py38_default/lib/python3.8/site-packages (from holidays>=0.14.2->prophet) (0.3.1)\n",
      "Requirement already satisfied: hijri-converter in /anaconda/envs/py38_default/lib/python3.8/site-packages (from holidays>=0.14.2->prophet) (2.2.4)\n",
      "Requirement already satisfied: pytz in /anaconda/envs/py38_default/lib/python3.8/site-packages (from LunarCalendar>=0.0.9->prophet) (2022.7)\n",
      "Requirement already satisfied: ephem>=3.7.5.3 in /anaconda/envs/py38_default/lib/python3.8/site-packages (from LunarCalendar>=0.0.9->prophet) (4.1.3)\n",
      "Requirement already satisfied: cycler>=0.10 in /anaconda/envs/py38_default/lib/python3.8/site-packages (from matplotlib>=2.0.0->prophet) (0.11.0)\n",
      "Requirement already satisfied: pyparsing!=2.0.4,!=2.1.2,!=2.1.6,>=2.0.1 in /anaconda/envs/py38_default/lib/python3.8/site-packages (from matplotlib>=2.0.0->prophet) (3.0.9)\n",
      "Requirement already satisfied: kiwisolver>=1.0.1 in /anaconda/envs/py38_default/lib/python3.8/site-packages (from matplotlib>=2.0.0->prophet) (1.4.2)\n",
      "Requirement already satisfied: six>=1.5 in /anaconda/envs/py38_default/lib/python3.8/site-packages (from python-dateutil>=2.8.0->prophet) (1.16.0)\n",
      "Requirement already satisfied: zipp>=3.1.0 in /anaconda/envs/py38_default/lib/python3.8/site-packages (from importlib-resources->prophet) (3.8.0)\n",
      "Installing collected packages: cmdstanpy, prophet\n",
      "\u001b[31mERROR: pip's dependency resolver does not currently take into account all the packages that are installed. This behaviour is the source of the following dependency conflicts.\n",
      "fbprophet 0.7.1 requires setuptools-git>=1.2, which is not installed.\n",
      "fbprophet 0.7.1 requires cmdstanpy==0.9.5, but you have cmdstanpy 1.1.0 which is incompatible.\u001b[0m\u001b[31m\n",
      "\u001b[0mSuccessfully installed cmdstanpy-1.1.0 prophet-1.1.3\n"
     ]
    }
   ],
   "source": [
    "!pip install prophet"
   ]
  },
  {
   "cell_type": "code",
   "execution_count": 15,
   "id": "950e064e",
   "metadata": {},
   "outputs": [],
   "source": [
    "import pandas as pd\n",
    "from pymongo import MongoClient\n",
    "from prophet import Prophet"
   ]
  },
  {
   "cell_type": "code",
   "execution_count": 6,
   "id": "330a731a",
   "metadata": {},
   "outputs": [],
   "source": [
    "mongo_uri = \"mongodb://hadoop-vm.internal.cloudapp.net:27017/ca2\"\n",
    "\n",
    "client = MongoClient(mongo_uri)\n",
    "db = client[\"ca2\"]\n",
    "collection = db[\"vaccin_tweets_analysis\"]\n",
    "\n",
    "# Convert MongoDB collection to pandas DataFrame\n",
    "df = pd.DataFrame(list(collection.find()))\n"
   ]
  },
  {
   "cell_type": "code",
   "execution_count": 10,
   "id": "55fef93a",
   "metadata": {},
   "outputs": [],
   "source": [
    "df = df[[\"timestamp\",\"sentiment_score\"]]\n",
    "df.rename(columns={\"timestamp\": \"ds\", \"sentiment_score\": \"y\"},inplace=True)"
   ]
  },
  {
   "cell_type": "code",
   "execution_count": null,
   "id": "a8e900af-d129-4599-b071-2e38623f6413",
   "metadata": {},
   "outputs": [],
   "source": [
    "# Prophet model"
   ]
  },
  {
   "cell_type": "code",
   "execution_count": 12,
   "id": "6ea26f1d-bc5b-4203-9754-997439678a03",
   "metadata": {},
   "outputs": [
    {
     "ename": "NameError",
     "evalue": "name 'Prophet' is not defined",
     "output_type": "error",
     "traceback": [
      "\u001b[0;31m---------------------------------------------------------------------------\u001b[0m",
      "\u001b[0;31mNameError\u001b[0m                                 Traceback (most recent call last)",
      "Cell \u001b[0;32mIn[12], line 1\u001b[0m\n\u001b[0;32m----> 1\u001b[0m m \u001b[38;5;241m=\u001b[39m \u001b[43mProphet\u001b[49m()\n\u001b[1;32m      2\u001b[0m m\u001b[38;5;241m.\u001b[39mfit(df)\n",
      "\u001b[0;31mNameError\u001b[0m: name 'Prophet' is not defined"
     ]
    }
   ],
   "source": [
    "m = Prophet()\n",
    "m.fit(df)"
   ]
  },
  {
   "cell_type": "code",
   "execution_count": null,
   "id": "14f14417-bf7f-4059-8f1f-22f8d944e488",
   "metadata": {},
   "outputs": [],
   "source": []
  }
 ],
 "metadata": {
  "kernelspec": {
   "display_name": "Python 3.8 - Spark (local)",
   "language": "python",
   "name": "spark-3-python"
  },
  "language_info": {
   "codemirror_mode": {
    "name": "ipython",
    "version": 3
   },
   "file_extension": ".py",
   "mimetype": "text/x-python",
   "name": "python",
   "nbconvert_exporter": "python",
   "pygments_lexer": "ipython3",
   "version": "3.8.15"
  }
 },
 "nbformat": 4,
 "nbformat_minor": 5
}
