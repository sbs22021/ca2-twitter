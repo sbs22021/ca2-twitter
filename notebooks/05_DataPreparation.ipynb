{
 "cells": [
  {
   "cell_type": "code",
   "execution_count": 1,
   "id": "4e700b1e-71d3-46e2-b762-a5de5d06dc3e",
   "metadata": {},
   "outputs": [
    {
     "name": "stdout",
     "output_type": "stream",
     "text": [
      "root\n",
      " |-- _id: long (nullable = true)\n",
      " |-- coordinates: struct (nullable = true)\n",
      " |    |-- type: string (nullable = true)\n",
      " |    |-- coordinates: array (nullable = true)\n",
      " |    |    |-- element: double (containsNull = true)\n",
      " |-- text: string (nullable = true)\n",
      " |-- timestamp: timestamp (nullable = true)\n",
      " |-- timestamp_ms: long (nullable = true)\n",
      "\n"
     ]
    }
   ],
   "source": [
    "import pyspark\n",
    "from pyspark import SparkContext, SparkConf\n",
    "from pyspark.sql import SparkSession, SQLContext, functions as F\n",
    "from pyspark.sql.functions import *\n",
    "\n",
    "mongo_uri = \"mongodb://hadoop-vm.internal.cloudapp.net:27017/ca2\"\n",
    "\n",
    "# Spark version 3.2.3\n",
    "# MongoDB version 6.0.5\n",
    "# Java Version 11\n",
    "\n",
    "# create a spark session\n",
    "# Jars dependencies available in maven repository\n",
    "# https://mvnrepository.com/search?q=mongodb-driver-sync\n",
    "spark = SparkSession.builder \\\n",
    "    .appName('Tweets') \\\n",
    "    .config(\"spark.mongodb.read.connection.uri\", mongo_uri) \\\n",
    "    .config(\"spark.mongodb.write.connection.uri\", mongo_uri) \\\n",
    "    .config(\"spark.jars.packages\", \"org.mongodb.spark:mongo-spark-connector_2.12:10.1.1\") \\\n",
    "    .config(\"spark.jars.packages\", \"org.mongodb:mongodb-driver-core:4.9.1\") \\\n",
    "    .config(\"spark.jars.packages\", \"org.mongodb:mongodb-driver-sync:4.9.1\") \\\n",
    "    .config(\"spark.jars.packages\", \"org.mongodb:bson:4.9.1\") \\\n",
    "    .getOrCreate()\n",
    "\n",
    "# read data from mongodb collection \"tweets\" into a dataframe \"df\"\n",
    "df = spark.read \\\n",
    "    .format(\"mongodb\") \\\n",
    "    .option(\"connection.uri\", mongo_uri) \\\n",
    "    .option(\"database\", \"ca2\") \\\n",
    "    .option(\"collection\", \"tweets_202004\") \\\n",
    "    .load()\n",
    "\n",
    "df.printSchema()"
   ]
  },
  {
   "cell_type": "markdown",
   "id": "d43742a7",
   "metadata": {},
   "source": [
    "## Tweets Statistics"
   ]
  },
  {
   "cell_type": "markdown",
   "id": "9ef63fd4",
   "metadata": {},
   "source": [
    "### Total count tweets by laboratory"
   ]
  },
  {
   "cell_type": "code",
   "execution_count": 2,
   "id": "d37b5590-9eec-4067-9768-3bed3ef930b3",
   "metadata": {},
   "outputs": [],
   "source": [
    "# No need to compare with lower case as we are looking for exact match on hastags\n",
    "def contains_hashtags(column, hashtags):\n",
    "    condition = None\n",
    "    for hashtag in hashtags:\n",
    "        if condition is None:\n",
    "            condition = column.contains(hashtag)\n",
    "        else:\n",
    "            condition = condition | column.contains(hashtag)\n",
    "    return condition\n"
   ]
  },
  {
   "cell_type": "markdown",
   "id": "7694a897",
   "metadata": {},
   "source": [
    "# Create topic tweet \"Vaccin [ne, nation,]\""
   ]
  },
  {
   "cell_type": "code",
   "execution_count": 3,
   "id": "d3e8add6",
   "metadata": {},
   "outputs": [
    {
     "name": "stdout",
     "output_type": "stream",
     "text": [
      "Total tweets for Vaccin 15162\n"
     ]
    }
   ],
   "source": [
    "topic = \"Vaccin\"\n",
    "df_vaccine = df.filter(lower(col(\"text\")).contains(topic.lower()))\n",
    "print(f\"Total tweets for {topic} {df_vaccine.count()}\")"
   ]
  },
  {
   "cell_type": "code",
   "execution_count": 4,
   "id": "0bef1b4c",
   "metadata": {},
   "outputs": [],
   "source": [
    "df_vaccine.write \\\n",
    "    .format(\"mongodb\") \\\n",
    "    .mode(\"overwrite\") \\\n",
    "    .option(\"connection.uri\", mongo_uri) \\\n",
    "    .option(\"database\", \"ca2\") \\\n",
    "    .option(\"collection\", f\"{topic.lower()}_tweets_2_202004\") \\\n",
    "    .save()"
   ]
  },
  {
   "cell_type": "code",
   "execution_count": null,
   "id": "6a9a514c",
   "metadata": {},
   "outputs": [],
   "source": []
  }
 ],
 "metadata": {
  "kernelspec": {
   "display_name": "Python 3 (ipykernel)",
   "language": "python",
   "name": "python3"
  },
  "language_info": {
   "codemirror_mode": {
    "name": "ipython",
    "version": 3
   },
   "file_extension": ".py",
   "mimetype": "text/x-python",
   "name": "python",
   "nbconvert_exporter": "python",
   "pygments_lexer": "ipython3",
   "version": "3.9.13"
  }
 },
 "nbformat": 4,
 "nbformat_minor": 5
}
