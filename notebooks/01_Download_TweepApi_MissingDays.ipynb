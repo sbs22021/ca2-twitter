{
 "cells": [
  {
   "cell_type": "markdown",
   "id": "dddfbc5a",
   "metadata": {},
   "source": [
    "# Download missing days January 2021"
   ]
  },
  {
   "cell_type": "code",
   "execution_count": 1,
   "id": "471b4e60",
   "metadata": {},
   "outputs": [],
   "source": [
    "#!pip install tweepy"
   ]
  },
  {
   "cell_type": "code",
   "execution_count": 1,
   "id": "950e064e",
   "metadata": {},
   "outputs": [],
   "source": [
    "import pandas as pd\n",
    "import numpy as np\n",
    "import tweepy\n",
    "import matplotlib.pyplot as plt\n",
    "from pymongo import MongoClient"
   ]
  },
  {
   "cell_type": "code",
   "execution_count": 2,
   "id": "330a731a",
   "metadata": {},
   "outputs": [],
   "source": [
    "mongo_uri = \"mongodb://hadoop-vm.internal.cloudapp.net:27017/ca2\"\n",
    "\n",
    "client = MongoClient(mongo_uri)\n",
    "db = client[\"ca2\"]\n",
    "collection = db[\"vaccin_tweets_2_202101\"]\n"
   ]
  },
  {
   "cell_type": "code",
   "execution_count": 3,
   "id": "437328ff",
   "metadata": {},
   "outputs": [],
   "source": [
    "keywords = ['COVID-19', 'Coronavirus', 'Pandemic', 'Vaccine', 'Vaccination', 'Immunization', 'COVID vaccine', 'Vaccine rollout', 'Vaccine hesitancy', 'Vaccine mandate', 'Booster shot', 'Vaccine passport', 'Vaccination rate', 'Public health']\n",
    "keywords_laboratories = ['Moderna', 'Pfizer', 'AstraZeneca', 'Johnson & Johnson', 'Sinovac', 'Sinopharm', 'Novavax', 'Sanofi', 'GlaxoSmithKline', 'BioNTech']\n",
    "unique_keywords = list(set(keywords + keywords_laboratories))\n",
    "\n",
    "hashtags = ['#COVID19', '#Coronavirus', '#Pandemic', '#Vaccine', '#Vaccination', '#GetVaccinated', '#COVIDVaccine', '#Immunization', '#VaccineHesitancy', '#VaccineMandate', '#BoosterShot', '#VaccinePassport', '#PublicHealth', '#StaySafe', '#VaccineRollout', '#VaccineTrials', '#ClinicalTrials', '#VaccineDevelopment', '#VaccineResearch', '#VaccineProduction', '#VaccineDistribution', '#VaccineSupplyChain', '#VaccineManufacturing', '#VaccineStorage', '#VaccineEfficacy', '#VaccineSafety', '#AntibodyTests', '#DiagnosticTests', '#PCRTests', '#SerologyTests', '#Immunology', '#HerdImmunity', '#VaccineNationalism']\n",
    "\n",
    "hashtags_laboratories = ['#Moderna', '#Pfizer', '#BioNTech', '#AstraZeneca', '#JohnsonAndJohnson', '#Janssen', '#Novavax', '#Sinovac', '#Sinopharm', '#Sanofi', '#GSK']\n",
    "unique_hashtags = list(set(hashtags + hashtags_laboratories))"
   ]
  },
  {
   "cell_type": "code",
   "execution_count": 4,
   "id": "6fa34b77",
   "metadata": {},
   "outputs": [],
   "source": [
    "# Authentication\n",
    "api_key = \"Y0hENmxMwkILuxxY0yb9NHG0L\"\n",
    "api_secret = \"33OSFPPFNWlN3S9CvL5ok4ClBLjUdviC4zzpLs9aRBwJVzHPMA\"\n",
    "bearerToken = \"AAAAAAAAAAAAAAAAAAAAABoHcAEAAAAA78rV2Phg2vUbwTdcJ2QPGGji65M%3DsTr8DETODttIuwkHy9czi663YUpUPLDOVY2VqUzmBdshiJmLT3\"\n",
    "\n",
    "auth = tweepy.OAuth2BearerHandler(bearerToken)\n",
    "api = tweepy.API(auth)"
   ]
  },
  {
   "cell_type": "code",
   "execution_count": 18,
   "id": "98f1a932",
   "metadata": {},
   "outputs": [],
   "source": [
    "# Combine keywords and hashtags into a single string separated by ' OR '\n",
    "query = ' OR '.join(unique_keywords + unique_hashtags)"
   ]
  },
  {
   "cell_type": "code",
   "execution_count": 20,
   "id": "e94af1e2",
   "metadata": {},
   "outputs": [],
   "source": [
    "# https://twittercommunity.com/t/deprecating-the-premium-v1-1-api/191092\n",
    "environment = \"development\"\n",
    "fromDate = \"2020-01-07\"\n",
    "toDate = \"2020-01-27\"\n",
    "tweets = tweepy.Cursor(api.search_tweets,\n",
    "                       lang=\"en\",\n",
    "                       label=environment,\n",
    "                       query=\"(\" + query + \")\",\n",
    "                       fromDate=fromDate,\n",
    "                       toDate=toDate).items()"
   ]
  },
  {
   "cell_type": "code",
   "execution_count": 21,
   "id": "6751dd3f",
   "metadata": {},
   "outputs": [],
   "source": [
    "tweets = []\n",
    "for tweet in tweets:\n",
    "    if 'vaccin' in tweet.text.lower():\n",
    "        tweets.append(json.loads(json.dumps(tweet._json)))"
   ]
  },
  {
   "cell_type": "code",
   "execution_count": 22,
   "id": "1c95580c",
   "metadata": {},
   "outputs": [
    {
     "data": {
      "text/plain": [
       "[]"
      ]
     },
     "execution_count": 22,
     "metadata": {},
     "output_type": "execute_result"
    }
   ],
   "source": [
    "tweets"
   ]
  },
  {
   "cell_type": "code",
   "execution_count": null,
   "id": "69a7aa2f",
   "metadata": {},
   "outputs": [],
   "source": []
  }
 ],
 "metadata": {
  "kernelspec": {
   "display_name": "Python 3 (ipykernel)",
   "language": "python",
   "name": "python3"
  },
  "language_info": {
   "codemirror_mode": {
    "name": "ipython",
    "version": 3
   },
   "file_extension": ".py",
   "mimetype": "text/x-python",
   "name": "python",
   "nbconvert_exporter": "python",
   "pygments_lexer": "ipython3",
   "version": "3.9.13"
  }
 },
 "nbformat": 4,
 "nbformat_minor": 5
}
