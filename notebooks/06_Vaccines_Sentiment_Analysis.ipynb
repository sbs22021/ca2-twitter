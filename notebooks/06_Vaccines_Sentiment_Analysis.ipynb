{
 "cells": [
  {
   "cell_type": "code",
   "execution_count": 3,
   "id": "5f22a825",
   "metadata": {},
   "outputs": [],
   "source": [
    "import pyspark\n",
    "from pyspark import SparkContext, SparkConf\n",
    "from pyspark.sql import SparkSession, SQLContext, functions as F\n",
    "from pyspark.sql.types import IntegerType, StringType\n",
    "from pyspark.ml.feature import Tokenizer, StopWordsRemover\n",
    "from pyspark.ml.feature import HashingTF, IDF\n",
    "\n",
    "mongo_uri = \"mongodb://hadoop-vm.internal.cloudapp.net:27017/ca2\"\n",
    "\n",
    "# Spark version 3.2.3\n",
    "# MongoDB version 6.0.5\n",
    "# Java Version 11\n",
    "\n",
    "# create a spark session\n",
    "# Jars dependencies available in maven repository\n",
    "# https://mvnrepository.com/search?q=mongodb-driver-sync\n",
    "spark = SparkSession.builder \\\n",
    "    .appName('Tweets') \\\n",
    "    .config(\"spark.mongodb.read.connection.uri\", mongo_uri) \\\n",
    "    .config(\"spark.mongodb.write.connection.uri\", mongo_uri) \\\n",
    "    .config(\"spark.jars.packages\", \"org.mongodb.spark:mongo-spark-connector_2.12:10.1.1\") \\\n",
    "    .config(\"spark.jars.packages\", \"org.mongodb:mongodb-driver-core:4.9.1\") \\\n",
    "    .config(\"spark.jars.packages\", \"org.mongodb:mongodb-driver-sync:4.9.1\") \\\n",
    "    .config(\"spark.jars.packages\", \"org.mongodb:bson:4.9.1\") \\\n",
    "    .getOrCreate()\n"
   ]
  },
  {
   "cell_type": "code",
   "execution_count": null,
   "id": "c36a8ff1",
   "metadata": {},
   "outputs": [],
   "source": [
    "# read data from mongodb collection \"tweets\" into a dataframe \"df\"\n",
    "df = spark.read \\\n",
    "    .format(\"mongodb\") \\\n",
    "    .option(\"connection.uri\", mongo_uri) \\\n",
    "    .option(\"database\", \"ca2\") \\\n",
    "    .option(\"collection\", \"vaccin_tweets\") \\\n",
    "    .load()"
   ]
  },
  {
   "cell_type": "markdown",
   "id": "54210e8f",
   "metadata": {},
   "source": [
    "# Data preparation"
   ]
  },
  {
   "cell_type": "code",
   "execution_count": null,
   "id": "d8302439",
   "metadata": {},
   "outputs": [],
   "source": [
    "#cleaned_df = df.select(col('_id').alias('id'), to_timestamp('timestamp').alias('datetime'), 'text') \\\n",
    "#    .withColumn('cleaned_text', regexp_replace(col('text'), '(@[A-Za-z0-9]+)|([^0-9A-Za-z \\t])|(\\w+:\\/\\/\\S+)', ''))\n",
    "#cleaned_df.show()"
   ]
  },
  {
   "cell_type": "markdown",
   "id": "5c010bf1",
   "metadata": {},
   "source": [
    "# Sentiment analysis with pretrained model \n",
    "\n",
    "https://aclanthology.org/2020.findings-emnlp.148\n",
    "\n",
    "https://huggingface.co/cardiffnlp/twitter-roberta-base-sentiment-latest\n",
    "\n"
   ]
  },
  {
   "cell_type": "code",
   "execution_count": null,
   "id": "0d7f5d68",
   "metadata": {},
   "outputs": [],
   "source": [
    "#!pip install tweetnlp"
   ]
  },
  {
   "cell_type": "code",
   "execution_count": null,
   "id": "bb3436ec",
   "metadata": {},
   "outputs": [],
   "source": [
    "import tweetnlp\n",
    "import pandas as pd\n",
    "model = tweetnlp.Sentiment()"
   ]
  },
  {
   "cell_type": "code",
   "execution_count": null,
   "id": "0d1d9fde",
   "metadata": {},
   "outputs": [],
   "source": [
    "df.write.parquet(\"data.parquet\") "
   ]
  },
  {
   "cell_type": "code",
   "execution_count": null,
   "id": "8d866e1c",
   "metadata": {},
   "outputs": [],
   "source": [
    "pd_df = df.toPandas()"
   ]
  },
  {
   "cell_type": "code",
   "execution_count": null,
   "id": "2e473207",
   "metadata": {},
   "outputs": [],
   "source": [
    "from tqdm import tqdm\n",
    "tqdm.pandas()"
   ]
  },
  {
   "cell_type": "code",
   "execution_count": null,
   "id": "7499a3ce",
   "metadata": {},
   "outputs": [],
   "source": [
    "pd_df['sentiment'] = pd_df['text'].progress_apply(lambda x: model.predict(x))"
   ]
  },
  {
   "cell_type": "code",
   "execution_count": null,
   "id": "4acc87e7",
   "metadata": {},
   "outputs": [],
   "source": [
    "pd_df.to_csv(\"data.csv\")"
   ]
  },
  {
   "cell_type": "code",
   "execution_count": null,
   "id": "7b22bb9a",
   "metadata": {},
   "outputs": [],
   "source": [
    "## Same using pys\n",
    "def predict_sentiment(text):\n",
    "    return model.predict(text)\n",
    "\n",
    "sentiment_udf = F.udf(predict_sentiment, StringType())\n",
    "df_with_sentiment = df.withColumn(\"sentiment\", sentiment_udf(df[\"text\"]))"
   ]
  },
  {
   "cell_type": "code",
   "execution_count": null,
   "id": "bebd0b60",
   "metadata": {},
   "outputs": [],
   "source": [
    "df_with_sentiment.show()"
   ]
  },
  {
   "cell_type": "code",
   "execution_count": 4,
   "id": "304bf613",
   "metadata": {},
   "outputs": [],
   "source": [
    "df_parquet = spark.read.parquet(\"df.parquet.gzip\")"
   ]
  },
  {
   "cell_type": "code",
   "execution_count": 9,
   "id": "2c6e6a54",
   "metadata": {},
   "outputs": [
    {
     "name": "stdout",
     "output_type": "stream",
     "text": [
      "+-------------------+-----------+--------------------+--------------------+-------------+----------+\n",
      "|                _id|coordinates|                text|           timestamp| timestamp_ms| sentiment|\n",
      "+-------------------+-----------+--------------------+--------------------+-------------+----------+\n",
      "|1344258913114447875|       null|RT @catturd2: 👀\\...|2020-12-30 12:27:...|1609331274666| {neutral}|\n",
      "|1344258934077599745|       null|RT @washingtonpos...|2020-12-30 12:27:...|1609331279664| {neutral}|\n",
      "|1344259131209904128|       null|RT @ianbremmer: #...|2020-12-30 12:28:...|1609331326664| {neutral}|\n",
      "|1344259231877390337|       null|RT @CNN: UK Healt...|2020-12-30 12:29:...|1609331350665|{positive}|\n",
      "|1344259311569149954|       null|RT @88gaz88: @San...|2020-12-30 12:29:...|1609331369665|{negative}|\n",
      "|1344259315733958656|       null|RT @gmanews: Dril...|2020-12-30 12:29:...|1609331370658|{negative}|\n",
      "|1344259336739155969|       null|RT @BorisJohnson:...|2020-12-30 12:29:...|1609331375666|{positive}|\n",
      "|1344259357702316032|       null|RT @mgpolitis: CO...|2020-12-30 12:29:...|1609331380664| {neutral}|\n",
      "|1344259416426573826|       null|RT @jaicabajar: M...|2020-12-30 12:29:...|1609331394665|{negative}|\n",
      "|1344259462559838208|       null|Today the UK regu...|2020-12-30 12:30:...|1609331405664| {neutral}|\n",
      "|1344259663861309444|       null|RT @disclosetv: J...|2020-12-30 12:30:...|1609331453658| {neutral}|\n",
      "|1344259693246558208|       null|RT @ormondbeach: ...|2020-12-30 12:31:...|1609331460664| {neutral}|\n",
      "|1344259718416633856|       null|RT @IndianExpress...|2020-12-30 12:31:...|1609331466665| {neutral}|\n",
      "|1344259739354619906|       null|RT @catturd2: 👀\\...|2020-12-30 12:31:...|1609331471657| {neutral}|\n",
      "|1344260070733963266|       null|@dermitzakis @ska...|2020-12-30 12:32:...|1609331550664|{positive}|\n",
      "|1344260095899619334|       null|RT @disclosetv: J...|2020-12-30 12:32:...|1609331556664| {neutral}|\n",
      "|1344260251059593216|       null|RT @nypost: Calif...|2020-12-30 12:33:...|1609331593657| {neutral}|\n",
      "|1344260259473481728|       null|RT @StockportBirt...|2020-12-30 12:33:...|1609331595663|{positive}|\n",
      "|1344260330755678209|       null|RT @catturd2: 👀\\...|2020-12-30 12:33:...|1609331612658| {neutral}|\n",
      "|1344260330772443136|       null|I see #COVIDIOT t...|2020-12-30 12:33:...|1609331612662|{negative}|\n",
      "+-------------------+-----------+--------------------+--------------------+-------------+----------+\n",
      "only showing top 20 rows\n",
      "\n"
     ]
    }
   ],
   "source": [
    "df_parquet.show()"
   ]
  },
  {
   "cell_type": "code",
   "execution_count": 10,
   "id": "7eddd31a",
   "metadata": {},
   "outputs": [],
   "source": [
    "pd_df = df_parquet.toPandas()[[\"timestamp\",\"text\",\"sentiment\"]]"
   ]
  },
  {
   "cell_type": "code",
   "execution_count": 11,
   "id": "87fcaf05",
   "metadata": {},
   "outputs": [],
   "source": [
    "pd_df.to_csv(\"sentiment.csv\")"
   ]
  },
  {
   "cell_type": "code",
   "execution_count": 15,
   "id": "7957d91e",
   "metadata": {},
   "outputs": [
    {
     "data": {
      "text/plain": [
       "Timestamp('2021-01-01 06:58:46.659000')"
      ]
     },
     "execution_count": 15,
     "metadata": {},
     "output_type": "execute_result"
    }
   ],
   "source": [
    "pd_df.timestamp.max()"
   ]
  },
  {
   "cell_type": "code",
   "execution_count": null,
   "id": "629f9895",
   "metadata": {},
   "outputs": [],
   "source": []
  }
 ],
 "metadata": {
  "kernelspec": {
   "display_name": "Python 3 (ipykernel)",
   "language": "python",
   "name": "python3"
  },
  "language_info": {
   "codemirror_mode": {
    "name": "ipython",
    "version": 3
   },
   "file_extension": ".py",
   "mimetype": "text/x-python",
   "name": "python",
   "nbconvert_exporter": "python",
   "pygments_lexer": "ipython3",
   "version": "3.9.13"
  }
 },
 "nbformat": 4,
 "nbformat_minor": 5
}
