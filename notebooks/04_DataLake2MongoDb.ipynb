{
 "cells": [
  {
   "cell_type": "markdown",
   "id": "9b5c7246-de85-4727-bfc1-795974ed0a49",
   "metadata": {},
   "source": [
    "# Create a catalogue of tweets in mongodb"
   ]
  },
  {
   "cell_type": "code",
   "execution_count": 1,
   "id": "b2f91a7c-1d82-4980-81b5-5a7cd9f6ba56",
   "metadata": {},
   "outputs": [],
   "source": [
    "from datetime import datetime\n",
    "import json\n",
    "from hdfs import InsecureClient\n",
    "from pymongo import MongoClient\n",
    "from pymongo import UpdateOne, InsertOne\n",
    "\n",
    "\n",
    "# MONGODB\n",
    "mongo_url = 'mongodb://hadoop-vm.internal.cloudapp.net:27017/ca2.tweets_202004'\n",
    "database_name = 'ca2'\n",
    "collection_name = 'tweets_202004'\n",
    "\n",
    "# HADOOP\n",
    "hdfs_url = 'http://hadoop-vm.internal.cloudapp.net:9870'\n",
    "hdfs_directory = \"/twitter\""
   ]
  },
  {
   "cell_type": "markdown",
   "id": "f3f3b781-ff30-4147-885e-edaaad538de4",
   "metadata": {},
   "source": [
    "## Connect and create database and tweets collection\n",
    "Include index on field id for performance"
   ]
  },
  {
   "cell_type": "markdown",
   "id": "d75ec7d4-219f-4403-aa53-0b47f28b785e",
   "metadata": {},
   "source": [
    "# Read tweets from hadoop"
   ]
  },
  {
   "cell_type": "code",
   "execution_count": null,
   "id": "43e75b06-06ef-4a6e-9b8d-b4482dc15133",
   "metadata": {},
   "outputs": [
    {
     "name": "stdout",
     "output_type": "stream",
     "text": [
      "processing /twitter/covid-tweets-20230522233549-1.json\n",
      "Writting....\n",
      "Writting....\n",
      "processing /twitter/covid-tweets-20230522233549-2.json\n",
      "Writting....\n",
      "Writting....\n",
      "processing /twitter/covid-tweets-20230522233549-3.json\n",
      "Writting....\n",
      "Writting....\n",
      "Writting....\n",
      "processing /twitter/covid-tweets-20230522233549-4.json\n",
      "Writting....\n",
      "Writting....\n",
      "processing /twitter/covid-tweets-20230522233549-5.json\n",
      "Writting....\n",
      "Writting....\n",
      "processing /twitter/covid-tweets-20230522233549-6.json\n",
      "Writting....\n",
      "Writting....\n",
      "processing /twitter/covid-tweets-20230522233549-7.json\n",
      "Writting....\n",
      "Writting....\n",
      "processing /twitter/covid-tweets-20230523064538-1.json\n",
      "Writting....\n",
      "processing /twitter/covid-tweets-20230523064538-2.json\n",
      "Writting....\n",
      "processing /twitter/covid-tweets-20230523064538-3.json\n",
      "Writting....\n",
      "Writting....\n",
      "processing /twitter/covid-tweets-20230523064538-4.json\n",
      "Writting....\n",
      "Writting....\n",
      "processing /twitter/covid-tweets-20230523064538-5.json\n",
      "Writting....\n",
      "Writting....\n",
      "processing /twitter/covid-tweets-20230523064538-6.json\n",
      "Writting....\n",
      "Writting....\n",
      "processing /twitter/covid-tweets-20230523064538-7.json\n",
      "Writting....\n",
      "Writting....\n",
      "processing /twitter/covid-tweets-20230523064538-8.json\n",
      "Writting....\n",
      "Writting....\n",
      "processing /twitter/covid-tweets-20230523154710-1.json\n",
      "Writting....\n",
      "processing /twitter/covid-tweets-20230523154710-10.json\n",
      "Writting....\n",
      "processing /twitter/covid-tweets-20230523154710-11.json\n",
      "Writting....\n",
      "processing /twitter/covid-tweets-20230523154710-12.json\n",
      "Writting....\n",
      "processing /twitter/covid-tweets-20230523154710-13.json\n",
      "Writting....\n"
     ]
    }
   ],
   "source": [
    "# Connect to Hadoop\n",
    "client = InsecureClient(hdfs_url, user='hduser')\n",
    "\n",
    "# Connect to MongoDB\n",
    "mongo_client = MongoClient(mongo_url)\n",
    "db = mongo_client[database_name]\n",
    "collection = db[collection_name]\n",
    "\n",
    "# List JSON files in Hadoop directory\n",
    "json_files = client.list(hdfs_directory)\n",
    "\n",
    "# Read JSON files and insert into MongoDB\n",
    "for file_name in json_files:\n",
    "    if '2023052' in file_name:\n",
    "        file_path = f\"{hdfs_directory}/{file_name}\"\n",
    "        print(f\"processing {file_path}\")\n",
    "        with client.read(file_path) as file:\n",
    "            bulk_operations = []\n",
    "            for line in file:\n",
    "                try:\n",
    "                    tweet = json.loads(line)\n",
    "                    if tweet['lang'] == 'en':\n",
    "                        \n",
    "                        # Convert timestamp_ms (milliseconds since epoch) to ISODate format\n",
    "                        timestamp_ms = int(tweet.get('timestamp_ms', 0))\n",
    "                        timestamp = datetime.utcfromtimestamp(timestamp_ms / 1000)\n",
    "\n",
    "                        tweet_p = {\n",
    "                            '_id': tweet['id'],\n",
    "                            'text': tweet.get('text'),\n",
    "                            'timestamp_ms': timestamp_ms,\n",
    "                            'timestamp': timestamp,\n",
    "                            'coordinates': tweet.get('coordinates'),\n",
    "                        }\n",
    "                        if 'extended_tweet' in tweet:\n",
    "                            tweet_p['text'] = tweet['extended_tweet'].get('full_text')\n",
    "\n",
    "                        # Add tweet using upsert in case duplicates\n",
    "                        bulk_operations.append(UpdateOne({'_id': tweet['id']}, {'$set': tweet_p}, upsert=True))\n",
    "\n",
    "                        # Execute bulk \n",
    "                        if len(bulk_operations) >= 10000:\n",
    "                            print(\"Writting....\")\n",
    "                            collection.bulk_write(bulk_operations)\n",
    "                            bulk_operations = []\n",
    "                except:\n",
    "                    continue\n",
    "\n",
    "            # Execute remaining bulk operations\n",
    "            if bulk_operations:\n",
    "                collection.bulk_write(bulk_operations)\n"
   ]
  },
  {
   "cell_type": "code",
   "execution_count": null,
   "id": "df37e5fa-0157-426c-b919-7367b7bc8c41",
   "metadata": {},
   "outputs": [],
   "source": []
  }
 ],
 "metadata": {
  "kernelspec": {
   "display_name": "Python 3.8 - Spark (local)",
   "language": "python",
   "name": "spark-3-python"
  },
  "language_info": {
   "codemirror_mode": {
    "name": "ipython",
    "version": 3
   },
   "file_extension": ".py",
   "mimetype": "text/x-python",
   "name": "python",
   "nbconvert_exporter": "python",
   "pygments_lexer": "ipython3",
   "version": "3.8.15"
  }
 },
 "nbformat": 4,
 "nbformat_minor": 5
}
