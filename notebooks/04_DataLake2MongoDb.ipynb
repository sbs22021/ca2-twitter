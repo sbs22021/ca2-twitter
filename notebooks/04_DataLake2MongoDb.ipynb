{
 "cells": [
  {
   "cell_type": "markdown",
   "id": "9b5c7246-de85-4727-bfc1-795974ed0a49",
   "metadata": {},
   "source": [
    "# Create a catalogue of tweets in mongodb"
   ]
  },
  {
   "cell_type": "code",
   "execution_count": 1,
   "id": "cd190455-cc90-495e-9c30-04137c2eb5d0",
   "metadata": {},
   "outputs": [
    {
     "data": {
      "text/html": [
       "\n",
       "        <div>\n",
       "            <p><b>SparkContext</b></p>\n",
       "\n",
       "            <p><a href=\"http://rmsryu-vm.internal.cloudapp.net:4043\">Spark UI</a></p>\n",
       "\n",
       "            <dl>\n",
       "              <dt>Version</dt>\n",
       "                <dd><code>v3.2.3</code></dd>\n",
       "              <dt>Master</dt>\n",
       "                <dd><code>local[*]</code></dd>\n",
       "              <dt>AppName</dt>\n",
       "                <dd><code>pyspark-shell</code></dd>\n",
       "            </dl>\n",
       "        </div>\n",
       "        "
      ],
      "text/plain": [
       "<SparkContext master=local[*] appName=pyspark-shell>"
      ]
     },
     "execution_count": 1,
     "metadata": {},
     "output_type": "execute_result"
    }
   ],
   "source": [
    "sc"
   ]
  },
  {
   "cell_type": "code",
   "execution_count": 1,
   "id": "e47c8d7d-d0c8-46a0-a881-bfcf6ae10421",
   "metadata": {},
   "outputs": [],
   "source": [
    "#!pip install pymongo"
   ]
  },
  {
   "cell_type": "code",
   "execution_count": 56,
   "id": "b2f91a7c-1d82-4980-81b5-5a7cd9f6ba56",
   "metadata": {},
   "outputs": [],
   "source": [
    "import json\n",
    "from hdfs import InsecureClient\n",
    "from pymongo import MongoClient\n",
    "\n",
    "# MONGODB\n",
    "mongo_url = 'mongodb://hadoop-vm.internal.cloudapp.net:27017/ca2.tweets'\n",
    "database_name = 'ca2'\n",
    "collection_name = 'tweets'\n",
    "\n",
    "# HADOOP\n",
    "hdfs_url = 'http://hadoop-vm.internal.cloudapp.net:9870'\n",
    "hdfs_directory = \"/twitter\""
   ]
  },
  {
   "cell_type": "markdown",
   "id": "f3f3b781-ff30-4147-885e-edaaad538de4",
   "metadata": {},
   "source": [
    "## Connect and create database and tweets collection\n",
    "Include index on field id for performance"
   ]
  },
  {
   "cell_type": "markdown",
   "id": "d75ec7d4-219f-4403-aa53-0b47f28b785e",
   "metadata": {},
   "source": [
    "# Read tweets from hadoop"
   ]
  },
  {
   "cell_type": "code",
   "execution_count": null,
   "id": "43e75b06-06ef-4a6e-9b8d-b4482dc15133",
   "metadata": {},
   "outputs": [],
   "source": [
    "# Connect to Hadoop\n",
    "client = InsecureClient(hdfs_url, user='hduser')\n",
    "\n",
    "# Connect to MongoDB\n",
    "mongo_client = MongoClient(mongo_url)\n",
    "db = mongo_client[database_name]\n",
    "collection = db[collection_name]\n",
    "\n",
    "# List JSON files in Hadoop directory\n",
    "json_files = client.list(hdfs_directory)\n",
    "\n",
    "# Read JSON files and insert into MongoDB\n",
    "for file_name in json_files:\n",
    "    if file_name.endswith('.json'):\n",
    "        file_path = f\"{hdfs_directory}/{file_name}\"\n",
    "        with client.read(file_path) as file:\n",
    "            for line in file:\n",
    "                tweet = json.loads(line)\n",
    "                collection.update_one({'_id': tweet['id']}, {'$set': tweet}, upsert=True)\n"
   ]
  },
  {
   "cell_type": "code",
   "execution_count": null,
   "id": "df37e5fa-0157-426c-b919-7367b7bc8c41",
   "metadata": {},
   "outputs": [],
   "source": []
  }
 ],
 "metadata": {
  "kernelspec": {
   "display_name": "Python 3.8 - Spark (local)",
   "language": "python",
   "name": "spark-3-python"
  },
  "language_info": {
   "codemirror_mode": {
    "name": "ipython",
    "version": 3
   },
   "file_extension": ".py",
   "mimetype": "text/x-python",
   "name": "python",
   "nbconvert_exporter": "python",
   "pygments_lexer": "ipython3",
   "version": "3.8.15"
  }
 },
 "nbformat": 4,
 "nbformat_minor": 5
}
