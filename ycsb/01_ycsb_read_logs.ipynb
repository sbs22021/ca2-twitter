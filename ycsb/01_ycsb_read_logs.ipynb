{
 "cells": [
  {
   "cell_type": "code",
   "execution_count": 3,
   "id": "5a663e41",
   "metadata": {},
   "outputs": [],
   "source": [
    "import re\n",
    "import csv\n",
    "import os"
   ]
  },
  {
   "cell_type": "code",
   "execution_count": 2,
   "id": "a527fdb8",
   "metadata": {},
   "outputs": [],
   "source": [
    "def parse_ycsb_log(filenames):\n",
    "    data_dict = {\n",
    "        \"timestamp\": [],\n",
    "        \"Database\": [],\n",
    "        \"workload_type\": [],\n",
    "        \"Operations\": [],\n",
    "        \"AverageLatency\": [],\n",
    "        \"RunTime\": [],\n",
    "        \"Throughput\": [],\n",
    "        \"MinLatency\": [],\n",
    "        \"MaxLatency\": [],\n",
    "        \"95thPercentileLatency\": [],\n",
    "        \"99thPercentileLatency\": []\n",
    "    }\n",
    "\n",
    "    for filename in filenames:\n",
    "        with open(filename, \"r\") as f:\n",
    "            lines = f.readlines()\n",
    "            \n",
    "            workload_type = None\n",
    "            database = None\n",
    "            for line in lines:\n",
    "                timestamp_match = re.search(r\"(\\d{4}-\\d{2}-\\d{2} \\d{2}:\\d{2}:\\d{2})\", line)\n",
    "                if timestamp_match:\n",
    "                    timestamp = timestamp_match.group(1)\n",
    "                \n",
    "                workload_match = re.search(r\"# ycsb load (\\w+)\", line)\n",
    "                if workload_match:\n",
    "                    database = workload_match.group(1)\n",
    "                    workload_type = re.search(r\"# ycsb load (\\w+)([a-zA-Z0-9]*?) load\", line).group(2)\n",
    "                \n",
    "                if workload_type and database:\n",
    "                    result_match = re.search(r\"\\[(INSERT)\\], ([\\w\\(\\)/%]+), ([\\d.]+)\", line)\n",
    "                    if result_match:\n",
    "                        metric_type = result_match.group(1)\n",
    "                        metric_name = result_match.group(2)\n",
    "                        metric_value = float(result_match.group(3))\n",
    "\n",
    "                        if metric_name in data_dict.keys():\n",
    "                            data_dict[\"timestamp\"].append(timestamp)\n",
    "                            data_dict[\"Database\"].append(database)\n",
    "                            data_dict[\"workload_type\"].append(workload_type)\n",
    "                            data_dict[metric_name].append(metric_value)\n",
    "                            for key in data_dict.keys():\n",
    "                                if key != \"timestamp\" and key != \"Database\" and key != \"workload_type\" and key != metric_name:\n",
    "                                    data_dict[key].append(None)\n",
    "\n",
    "    with open('ycsb_report.csv', 'w', newline='') as csvfile:\n",
    "        fieldnames = data_dict.keys()\n",
    "        writer = csv.DictWriter(csvfile, fieldnames=fieldnames)\n",
    "\n",
    "        writer.writeheader()\n",
    "        for i in range(len(data_dict[\"timestamp\"])):\n",
    "            row_dict = {fn: data_dict[fn][i] for fn in fieldnames}\n",
    "            writer.writerow(row_dict)\n",
    "\n"
   ]
  },
  {
   "cell_type": "code",
   "execution_count": null,
   "id": "07b63b57",
   "metadata": {},
   "outputs": [],
   "source": []
  }
 ],
 "metadata": {
  "kernelspec": {
   "display_name": "Python 3 (ipykernel)",
   "language": "python",
   "name": "python3"
  },
  "language_info": {
   "codemirror_mode": {
    "name": "ipython",
    "version": 3
   },
   "file_extension": ".py",
   "mimetype": "text/x-python",
   "name": "python",
   "nbconvert_exporter": "python",
   "pygments_lexer": "ipython3",
   "version": "3.9.13"
  }
 },
 "nbformat": 4,
 "nbformat_minor": 5
}
