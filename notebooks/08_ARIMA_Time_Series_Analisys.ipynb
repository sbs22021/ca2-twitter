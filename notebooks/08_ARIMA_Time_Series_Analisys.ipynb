{
 "cells": [
  {
   "cell_type": "code",
   "execution_count": 1,
   "id": "e126ecb9",
   "metadata": {},
   "outputs": [
    {
     "name": "stderr",
     "output_type": "stream",
     "text": [
      "C:\\Users\\rmsry\\AppData\\Roaming\\Python\\Python39\\site-packages\\statsmodels\\compat\\pandas.py:61: FutureWarning: pandas.Int64Index is deprecated and will be removed from pandas in a future version. Use pandas.Index with the appropriate dtype instead.\n",
      "  from pandas import Int64Index as NumericIndex\n"
     ]
    }
   ],
   "source": [
    "import pandas as pd\n",
    "from statsmodels.tsa.arima.model import ARIMA\n",
    "from statsmodels.tsa.stattools import adfuller\n",
    "from pymongo import MongoClient"
   ]
  },
  {
   "cell_type": "code",
   "execution_count": 4,
   "id": "d2d4f1b7",
   "metadata": {},
   "outputs": [],
   "source": [
    "mongo_uri = \"mongodb://hadoop-vm.internal.cloudapp.net:27017/ca2\"\n",
    "\n",
    "client = MongoClient(mongo_uri)\n",
    "db = client[\"ca2\"]\n",
    "collection = db[\"vaccin_tweets_2_202004\"]\n",
    "collection_sentiment = db[\"vaccin_tweets_2_202004_sentiment\"]\n",
    "\n",
    "# Convert MongoDB collection to pandas DataFrame\n",
    "data = pd.DataFrame(list(collection.find()))\n",
    "data_sentiment = pd.DataFrame(list(collection_sentiment.find()))\n"
   ]
  },
  {
   "cell_type": "code",
   "execution_count": null,
   "id": "4a08e013",
   "metadata": {},
   "outputs": [],
   "source": [
    "data.head()"
   ]
  },
  {
   "cell_type": "code",
   "execution_count": 3,
   "id": "380b6c6a",
   "metadata": {},
   "outputs": [
    {
     "data": {
      "text/html": [
       "<div>\n",
       "<style scoped>\n",
       "    .dataframe tbody tr th:only-of-type {\n",
       "        vertical-align: middle;\n",
       "    }\n",
       "\n",
       "    .dataframe tbody tr th {\n",
       "        vertical-align: top;\n",
       "    }\n",
       "\n",
       "    .dataframe thead th {\n",
       "        text-align: right;\n",
       "    }\n",
       "</style>\n",
       "<table border=\"1\" class=\"dataframe\">\n",
       "  <thead>\n",
       "    <tr style=\"text-align: right;\">\n",
       "      <th></th>\n",
       "    </tr>\n",
       "  </thead>\n",
       "  <tbody>\n",
       "  </tbody>\n",
       "</table>\n",
       "</div>"
      ],
      "text/plain": [
       "Empty DataFrame\n",
       "Columns: []\n",
       "Index: []"
      ]
     },
     "execution_count": 3,
     "metadata": {},
     "output_type": "execute_result"
    }
   ],
   "source": [
    "data_sentiment.head()"
   ]
  },
  {
   "cell_type": "code",
   "execution_count": null,
   "id": "18a4f664",
   "metadata": {},
   "outputs": [],
   "source": [
    "# Inner join\n",
    "data = pd.merge(data, data_sentiment, on='_id', how='inner')"
   ]
  },
  {
   "cell_type": "code",
   "execution_count": null,
   "id": "0a7e0d33",
   "metadata": {},
   "outputs": [],
   "source": [
    "# Add Date column and create index\n",
    "data['timestamp'] = pd.to_datetime(data['timestamp'])\n",
    "data['date'] = data['timestamp'].dt.date\n",
    "\n",
    "# Add Is Retweet column\n",
    "data['is_retweet'] = data['text'].apply(lambda x: 1 if 'RT' in x else 0)\n",
    "\n",
    "# Calculate avg_sentiment_score\n",
    "df_grouped = data.groupby('date').agg(avg_sentiment_score=('s_probability', 'mean'))\n",
    "df_grouped['retweet_rate'] = data.groupby('date')['is_retweet'].mean()"
   ]
  },
  {
   "cell_type": "code",
   "execution_count": null,
   "id": "652f746f",
   "metadata": {},
   "outputs": [],
   "source": [
    "df_grouped.head()"
   ]
  },
  {
   "cell_type": "markdown",
   "id": "082c37d3",
   "metadata": {},
   "source": [
    "# Check stationationary"
   ]
  },
  {
   "cell_type": "code",
   "execution_count": null,
   "id": "582a59fc",
   "metadata": {},
   "outputs": [],
   "source": [
    "# Check for stationarity with Dickey-Fuller test\n",
    "result = adfuller(df_grouped['avg_sentiment_score'])\n",
    "print('ADF Statistic: %f' % result[0])\n",
    "print('p-value: %f' % result[1])\n",
    "\n"
   ]
  },
  {
   "cell_type": "markdown",
   "id": "c2a8903f",
   "metadata": {},
   "source": [
    "> Data is stationary "
   ]
  },
  {
   "cell_type": "code",
   "execution_count": null,
   "id": "a3bf8b93",
   "metadata": {},
   "outputs": [],
   "source": [
    "startdate = pd.to_datetime(\"2017-7-7\").date()\n",
    "enddate = pd.to_datetime(\"2017-7-10\").date()\n",
    "df.loc[startdate:enddate]"
   ]
  },
  {
   "cell_type": "code",
   "execution_count": null,
   "id": "60a136cf",
   "metadata": {},
   "outputs": [],
   "source": [
    "# Prepare train and test datasets\n",
    "split_date = \"2021-02-01\"\n",
    "train = df_grouped.where(df_grouped.date <= split_date)\n",
    "test = df_grouped.where(df_grouped.date > split_date)"
   ]
  },
  {
   "cell_type": "code",
   "execution_count": null,
   "id": "4b202683",
   "metadata": {},
   "outputs": [],
   "source": [
    "# ARIMA\n",
    "model = ARIMA(df_grouped['avg_sentiment_score'], order=(5,1,0)) # you will need to find the best parameters\n",
    "model_fit = model.fit()\n",
    "print(model_fit.summary())"
   ]
  },
  {
   "cell_type": "code",
   "execution_count": null,
   "id": "32d0c61c",
   "metadata": {},
   "outputs": [],
   "source": []
  }
 ],
 "metadata": {
  "kernelspec": {
   "display_name": "Python 3 (ipykernel)",
   "language": "python",
   "name": "python3"
  },
  "language_info": {
   "codemirror_mode": {
    "name": "ipython",
    "version": 3
   },
   "file_extension": ".py",
   "mimetype": "text/x-python",
   "name": "python",
   "nbconvert_exporter": "python",
   "pygments_lexer": "ipython3",
   "version": "3.9.13"
  }
 },
 "nbformat": 4,
 "nbformat_minor": 5
}
