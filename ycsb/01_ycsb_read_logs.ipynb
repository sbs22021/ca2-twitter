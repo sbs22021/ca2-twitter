{
 "cells": [
  {
   "cell_type": "code",
   "execution_count": 3,
   "id": "9d7a31fd",
   "metadata": {},
   "outputs": [],
   "source": [
    "import re\n",
    "import csv\n",
    "import os"
   ]
  },
  {
   "cell_type": "code",
   "execution_count": 145,
   "id": "61e3dd67",
   "metadata": {},
   "outputs": [],
   "source": [
    "def parse_ycsb_log(directory):\n",
    "    data = []\n",
    "\n",
    "    for filename in os.listdir(directory):\n",
    "        if filename.endswith(\".bin\"):\n",
    "            with open(os.path.join(directory, filename), \"r\", encoding=\"ISO-8859-1\") as f:\n",
    "                lines = f.readlines()\n",
    "\n",
    "                data_dict = {\n",
    "                    \"Timestamp\": None,\n",
    "                    \"Database\": None,\n",
    "                    \"WorkloadType\": None,\n",
    "                    \"Operations\": None,\n",
    "                    \"AverageLatency(us)\": None,\n",
    "                    \"MinLatency(us)\": None,\n",
    "                    \"MaxLatency(us)\": None,\n",
    "                    \"95thPercentileLatency(us)\": None,\n",
    "                    \"99thPercentileLatency(us)\": None\n",
    "                }\n",
    "\n",
    "                workload_type = None\n",
    "                database = None\n",
    "                for line in lines:\n",
    "                    timestamp_match = re.search(r\"(\\d{4}-\\d{2}-\\d{2} \\d{2}:\\d{2}:\\d{2})\", line)\n",
    "                    if timestamp_match:\n",
    "                        timestamp = timestamp_match.group(1)\n",
    "\n",
    "                    workload_match = re.search(r\"(.*)ycsb load (\\w+)\", line)\n",
    "                    if workload_match:\n",
    "                        database = workload_match.group(2)\n",
    "                        workload_type = re.search(r\"(.*)workloads/workload([a-z])(.*)\", line).group(2)\n",
    "\n",
    "                    if workload_type and database:\n",
    "                        result_match = re.search(r\"\\[(INSERT)\\], ([\\w\\(\\)/%]+), ([\\w.]+)\\\\par\", line)\n",
    "                        if result_match:\n",
    "                            metric_name = result_match.group(2)\n",
    "                            metric_value = float(result_match.group(3))\n",
    "\n",
    "                            if metric_name in data_dict.keys():\n",
    "                                data_dict[\"Timestamp\"] = timestamp\n",
    "                                data_dict[\"Database\"] = database\n",
    "                                data_dict[\"WorkloadType\"] = workload_type\n",
    "                                data_dict[metric_name] = metric_value\n",
    "                            else:\n",
    "                                print(f\"Not found {metric_name}\")\n",
    "\n",
    "                data.append(data_dict)\n",
    "\n",
    "    with open('ycsb_report.csv', 'w', newline='') as csvfile:\n",
    "        fieldnames = data[0].keys()\n",
    "        writer = csv.DictWriter(csvfile, fieldnames=fieldnames)\n",
    "\n",
    "        writer.writeheader()\n",
    "        for row_dict in data:\n",
    "            writer.writerow(row_dict)\n"
   ]
  },
  {
   "cell_type": "code",
   "execution_count": 146,
   "id": "280b53c3",
   "metadata": {},
   "outputs": [],
   "source": [
    "log_directory = './logs/'\n",
    "parse_ycsb_log(log_directory)"
   ]
  },
  {
   "cell_type": "code",
   "execution_count": null,
   "id": "5a7d0b33",
   "metadata": {},
   "outputs": [],
   "source": []
  }
 ],
 "metadata": {
  "kernelspec": {
   "display_name": "Python 3 (ipykernel)",
   "language": "python",
   "name": "python3"
  },
  "language_info": {
   "codemirror_mode": {
    "name": "ipython",
    "version": 3
   },
   "file_extension": ".py",
   "mimetype": "text/x-python",
   "name": "python",
   "nbconvert_exporter": "python",
   "pygments_lexer": "ipython3",
   "version": "3.9.13"
  }
 },
 "nbformat": 4,
 "nbformat_minor": 5
}
