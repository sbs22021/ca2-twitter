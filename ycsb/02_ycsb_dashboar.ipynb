{
 "cells": [
  {
   "cell_type": "code",
   "execution_count": 3,
   "id": "d0e28e29",
   "metadata": {},
   "outputs": [],
   "source": [
    "#!pip install dash dash_core_components dash_html_components"
   ]
  },
  {
   "cell_type": "code",
   "execution_count": 13,
   "id": "a007152e",
   "metadata": {},
   "outputs": [],
   "source": [
    "import dash\n",
    "from dash import dcc\n",
    "from dash import html\n",
    "from dash import dash_table\n",
    "from dash.dependencies import Input, Output\n",
    "import plotly.graph_objects as go\n",
    "import plotly.express as px\n",
    "import pandas as pd"
   ]
  },
  {
   "cell_type": "code",
   "execution_count": 14,
   "id": "06c917fb",
   "metadata": {},
   "outputs": [
    {
     "name": "stdout",
     "output_type": "stream",
     "text": [
      "Dash is running on http://127.0.0.1:8050/\n",
      "\n",
      " * Serving Flask app \"__main__\" (lazy loading)\n",
      " * Environment: production\n",
      "\u001b[31m   WARNING: This is a development server. Do not use it in a production deployment.\u001b[0m\n",
      "\u001b[2m   Use a production WSGI server instead.\u001b[0m\n",
      " * Debug mode: off\n"
     ]
    },
    {
     "name": "stderr",
     "output_type": "stream",
     "text": [
      " * Running on http://127.0.0.1:8050/ (Press CTRL+C to quit)\n",
      "127.0.0.1 - - [21/May/2023 19:42:06] \"GET / HTTP/1.1\" 200 -\n",
      "127.0.0.1 - - [21/May/2023 19:42:06] \"GET /_dash-layout HTTP/1.1\" 200 -\n",
      "127.0.0.1 - - [21/May/2023 19:42:06] \"GET /_dash-dependencies HTTP/1.1\" 200 -\n",
      "127.0.0.1 - - [21/May/2023 19:42:06] \"GET /_dash-component-suites/dash/dcc/async-dropdown.js HTTP/1.1\" 200 -\n",
      "127.0.0.1 - - [21/May/2023 19:42:06] \"GET /_dash-component-suites/dash/dcc/async-graph.js HTTP/1.1\" 200 -\n",
      "127.0.0.1 - - [21/May/2023 19:42:06] \"GET /_dash-component-suites/dash/dash_table/async-highlight.js HTTP/1.1\" 200 -\n",
      "127.0.0.1 - - [21/May/2023 19:42:06] \"GET /_dash-component-suites/dash/dcc/async-plotlyjs.js HTTP/1.1\" 200 -\n",
      "127.0.0.1 - - [21/May/2023 19:42:06] \"POST /_dash-update-component HTTP/1.1\" 200 -\n",
      "127.0.0.1 - - [21/May/2023 19:42:06] \"POST /_dash-update-component HTTP/1.1\" 200 -\n",
      "127.0.0.1 - - [21/May/2023 19:42:07] \"GET /_dash-component-suites/dash/dash_table/async-table.js HTTP/1.1\" 200 -\n",
      "127.0.0.1 - - [21/May/2023 19:42:07] \"POST /_dash-update-component HTTP/1.1\" 200 -\n",
      "127.0.0.1 - - [21/May/2023 19:42:51] \"POST /_dash-update-component HTTP/1.1\" 200 -\n",
      "127.0.0.1 - - [21/May/2023 19:42:51] \"POST /_dash-update-component HTTP/1.1\" 200 -\n",
      "127.0.0.1 - - [21/May/2023 19:42:51] \"POST /_dash-update-component HTTP/1.1\" 200 -\n"
     ]
    }
   ],
   "source": [
    "# Load the data\n",
    "df = pd.read_csv('ycsb_report.csv')\n",
    "\n",
    "#Convert to string \n",
    "df['Operations'] = df['Operations'].apply(lambda x: \"10k\" if x==10000 else (\"100k\" if x==100000 else \"1M\"))\n",
    "\n",
    "\n",
    "# Define workload descriptions\n",
    "workload_descriptions = {\n",
    "    \"a\": \"Workload A Update heavy workload: 50% read, 50% update operations\",\n",
    "    \"b\": \"Workload B Read mostly workload: 95% read, 5% update operations.\",\n",
    "    \"c\": \"Workload C Read only: 100% read operations.\",\n",
    "    \"d\": \"Workload D Read latest workload: New records are read more frequently.\",\n",
    "    \"e\": \"Workload E Short ranges: Range queries over the latest records.\",\n",
    "    \"f\": \"Workload F Read-modify-write: Client read a record, modifies it, and writes back the changes.\",\n",
    "}\n",
    "\n",
    "# Define the Dash app\n",
    "app = dash.Dash(__name__)\n",
    "\n",
    "# Define the app layout\n",
    "app.layout = html.Div([\n",
    "    dcc.Dropdown(\n",
    "        id='workload_dropdown',\n",
    "        options=[{'label': workload_descriptions[wl], 'value': wl} for wl in df['WorkloadType'].unique()],\n",
    "        value=df['WorkloadType'].unique()[0]\n",
    "    ),\n",
    "    dcc.Graph(\n",
    "        id='comparison_graph'\n",
    "    ),\n",
    "    dcc.Graph(\n",
    "        id='bar_plot'\n",
    "    ),\n",
    "    dcc.Graph(\n",
    "        id='heatmap_plot'\n",
    "    ),\n",
    "    dash_table.DataTable(\n",
    "        id='table',\n",
    "        columns=[{\"name\": i, \"id\": i} for i in df.describe().columns],\n",
    "        data=df.describe().to_dict('records')\n",
    "    )\n",
    "])\n",
    "\n",
    "# Define the callback to update the graph\n",
    "@app.callback(\n",
    "    Output('comparison_graph', 'figure'),\n",
    "    Input('workload_dropdown', 'value'))\n",
    "def update_figure(selected_wl):\n",
    "    filtered_df = df[df['WorkloadType'] == selected_wl]\n",
    "    fig = px.line(filtered_df,\n",
    "                  markers=True,\n",
    "                  x='Operations',\n",
    "                  y='AverageLatency(us)',\n",
    "                  color='Database',\n",
    "                  title='Average Latency (us) / Operations for WorkloadType ' + selected_wl)\n",
    "    return fig\n",
    "\n",
    "# Bar plot\n",
    "@app.callback(\n",
    "    Output('bar_plot', 'figure'),\n",
    "    Input('workload_dropdown', 'value'))\n",
    "def update_bar(selected_wl):\n",
    "    filtered_df = df[df['WorkloadType'] == selected_wl]\n",
    "    fig = px.bar(filtered_df, x='Database', y='AverageLatency(us)', color='Operations', barmode='group', title='AverageLatency(us) per Database for WorkloadType '+selected_wl)\n",
    "    return fig\n",
    "\n",
    "# Heat map\n",
    "@app.callback(\n",
    "    Output('heatmap_plot', 'figure'),\n",
    "    Input('workload_dropdown', 'value'))\n",
    "def update_heatmap(selected_wl):\n",
    "    filtered_df = df[df['WorkloadType'] == selected_wl]\n",
    "    stats = filtered_df.groupby('Database')['AverageLatency(us)'].describe()\n",
    "    fig = go.Figure(data=go.Heatmap(\n",
    "        z=stats.values,\n",
    "        x=stats.columns,\n",
    "        y=stats.index,\n",
    "        hoverongaps = False))\n",
    "    fig.update_layout(title_text='Statistics of AverageLatency(us) per Database for WorkloadType '+selected_wl)\n",
    "    return fig\n",
    "\n",
    "if __name__ == '__main__':\n",
    "    app.run_server(debug=False)\n"
   ]
  },
  {
   "cell_type": "code",
   "execution_count": null,
   "id": "1dc294cc",
   "metadata": {},
   "outputs": [],
   "source": []
  }
 ],
 "metadata": {
  "kernelspec": {
   "display_name": "Python 3 (ipykernel)",
   "language": "python",
   "name": "python3"
  },
  "language_info": {
   "codemirror_mode": {
    "name": "ipython",
    "version": 3
   },
   "file_extension": ".py",
   "mimetype": "text/x-python",
   "name": "python",
   "nbconvert_exporter": "python",
   "pygments_lexer": "ipython3",
   "version": "3.9.13"
  }
 },
 "nbformat": 4,
 "nbformat_minor": 5
}
